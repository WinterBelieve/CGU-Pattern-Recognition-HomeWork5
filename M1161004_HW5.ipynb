{
 "cells": [
  {
   "cell_type": "markdown",
   "id": "510786c8-e91d-4075-a9d5-3f082372da13",
   "metadata": {},
   "source": [
    "# 樣型識別 HW5 袁聖博\n",
    "\n",
    "## 有多做一些模型訓練\n",
    "### 所以跟網路大學所繳交的會有些不同"
   ]
  },
  {
   "cell_type": "code",
   "execution_count": null,
   "id": "32fe1d8e-d7a9-4ebe-9810-57c52c050ff3",
   "metadata": {},
   "outputs": [],
   "source": [
    "from tensorflow.keras.datasets import mnist\n",
    "import numpy as np\n",
    "\n",
    "(train_images, train_labels), _ = mnist.load_data()\n",
    "train_images = train_images.reshape((60000, 28 * 28))\n",
    "train_images = train_images.astype(\"float32\") / 255\n",
    "\n",
    "train_images_with_noise_channels = np.concatenate(\n",
    "    [train_images, np.random.random((len(train_images), 784))], axis=1)\n",
    "\n",
    "train_images_with_zeros_channels = np.concatenate(\n",
    "    [train_images, np.zeros((len(train_images), 784))], axis=1)"
   ]
  },
  {
   "cell_type": "code",
   "execution_count": 2,
   "id": "c05c14eb",
   "metadata": {},
   "outputs": [
    {
     "name": "stdout",
     "output_type": "stream",
     "text": [
      "Epoch 1/2\n",
      "375/375 [==============================] - 2s 3ms/step - loss: 0.6346 - accuracy: 0.8094 - val_loss: 0.3330 - val_accuracy: 0.9046\n",
      "Epoch 2/2\n",
      "375/375 [==============================] - 1s 2ms/step - loss: 0.2475 - accuracy: 0.9237 - val_loss: 0.1782 - val_accuracy: 0.9478\n",
      "Epoch 1/2\n",
      "375/375 [==============================] - 1s 3ms/step - loss: 0.2825 - accuracy: 0.9189 - val_loss: 0.1418 - val_accuracy: 0.9578\n",
      "Epoch 2/2\n",
      "375/375 [==============================] - 1s 3ms/step - loss: 0.1185 - accuracy: 0.9644 - val_loss: 0.1101 - val_accuracy: 0.9669\n"
     ]
    }
   ],
   "source": [
    "from tensorflow import keras\n",
    "from tensorflow.keras import layers\n",
    "\n",
    "def get_model():\n",
    "    model = keras.Sequential([\n",
    "        layers.Dense(512, activation=\"relu\"),\n",
    "        layers.Dense(10, activation=\"softmax\")\n",
    "    ])\n",
    "    model.compile(optimizer=\"rmsprop\",\n",
    "                  loss=\"sparse_categorical_crossentropy\",\n",
    "                  metrics=[\"accuracy\"])\n",
    "    return model\n",
    "\n",
    "model = get_model()\n",
    "history_noise = model.fit(\n",
    "    train_images_with_noise_channels, train_labels,\n",
    "    epochs=2,\n",
    "    batch_size=128,\n",
    "    validation_split=0.2)\n",
    "\n",
    "model = get_model()\n",
    "history_zeros = model.fit(\n",
    "    train_images_with_zeros_channels, train_labels,\n",
    "    epochs=2,\n",
    "    batch_size=128,\n",
    "    validation_split=0.2)"
   ]
  },
  {
   "cell_type": "code",
   "execution_count": 3,
   "id": "87ad13f6",
   "metadata": {},
   "outputs": [
    {
     "data": {
      "text/plain": [
       "<matplotlib.legend.Legend at 0x19f628dce80>"
      ]
     },
     "execution_count": 3,
     "metadata": {},
     "output_type": "execute_result"
    },
    {
     "data": {
      "image/png": "[encoded data removed]",
      "text/plain": [
       "<Figure size 432x288 with 1 Axes>"
      ]
     },
     "metadata": {
      "needs_background": "light"
     },
     "output_type": "display_data"
    }
   ],
   "source": [
    "import matplotlib.pyplot as plt\n",
    "val_acc_noise = history_noise.history[\"val_accuracy\"]\n",
    "val_acc_zeros = history_zeros.history[\"val_accuracy\"]\n",
    "epochs = range(1, 3)\n",
    "plt.plot(epochs, val_acc_noise, \"b-\",\n",
    "         label=\"Validation accuracy with noise channels\")\n",
    "plt.plot(epochs, val_acc_zeros, \"b--\",\n",
    "         label=\"Validation accuracy with zeros channels\")\n",
    "plt.title(\"Effect of noise channels on validation accuracy\")\n",
    "plt.xlabel(\"Epochs\")\n",
    "plt.ylabel(\"Accuracy\")\n",
    "plt.legend()"
   ]
  },
  {
   "cell_type": "code",
   "execution_count": 4,
   "id": "7cc2aff5",
   "metadata": {},
   "outputs": [
    {
     "name": "stdout",
     "output_type": "stream",
     "text": [
      "Epoch 1/2\n",
      "375/375 [==============================] - 1s 2ms/step - loss: 2.3166 - accuracy: 0.1042 - val_loss: 2.3073 - val_accuracy: 0.1034\n",
      "Epoch 2/2\n",
      "375/375 [==============================] - 1s 2ms/step - loss: 2.2998 - accuracy: 0.1154 - val_loss: 2.3084 - val_accuracy: 0.1043\n"
     ]
    },
    {
     "data": {
      "text/plain": [
       "<keras.callbacks.History at 0x1a043f517f0>"
      ]
     },
     "execution_count": 4,
     "metadata": {},
     "output_type": "execute_result"
    }
   ],
   "source": [
    "(train_images, train_labels), _ = mnist.load_data()\n",
    "train_images = train_images.reshape((60000, 28 * 28))\n",
    "train_images = train_images.astype(\"float32\") / 255\n",
    "\n",
    "random_train_labels = train_labels[:]\n",
    "np.random.shuffle(random_train_labels)\n",
    "\n",
    "model = keras.Sequential([\n",
    "    layers.Dense(512, activation=\"relu\"),\n",
    "    layers.Dense(10, activation=\"softmax\")\n",
    "])\n",
    "model.compile(optimizer=\"rmsprop\",\n",
    "              loss=\"sparse_categorical_crossentropy\",\n",
    "              metrics=[\"accuracy\"])\n",
    "model.fit(train_images, random_train_labels,\n",
    "          epochs=2,\n",
    "          batch_size=128,\n",
    "          validation_split=0.2)"
   ]
  },
  {
   "cell_type": "code",
   "execution_count": 5,
   "id": "590620c7",
   "metadata": {},
   "outputs": [
    {
     "name": "stdout",
     "output_type": "stream",
     "text": [
      "Epoch 1/2\n",
      "375/375 [==============================] - 1s 2ms/step - loss: 1130.3691 - accuracy: 0.5052 - val_loss: 1.9711 - val_accuracy: 0.3349\n",
      "Epoch 2/2\n",
      "375/375 [==============================] - 1s 2ms/step - loss: 4.3147 - accuracy: 0.3154 - val_loss: 2.3552 - val_accuracy: 0.1976\n"
     ]
    },
    {
     "data": {
      "text/plain": [
       "<keras.callbacks.History at 0x19f3569c550>"
      ]
     },
     "execution_count": 5,
     "metadata": {},
     "output_type": "execute_result"
    }
   ],
   "source": [
    "(train_images, train_labels), _ = mnist.load_data()\n",
    "train_images = train_images.reshape((60000, 28 * 28))\n",
    "train_images = train_images.astype(\"float32\") / 255\n",
    "\n",
    "model = keras.Sequential([\n",
    "    layers.Dense(512, activation=\"relu\"),\n",
    "    layers.Dense(10, activation=\"softmax\")\n",
    "])\n",
    "model.compile(optimizer=keras.optimizers.RMSprop(1.),\n",
    "              loss=\"sparse_categorical_crossentropy\",\n",
    "              metrics=[\"accuracy\"])\n",
    "model.fit(train_images, train_labels,\n",
    "          epochs=2,\n",
    "          batch_size=128,\n",
    "          validation_split=0.2)"
   ]
  },
  {
   "cell_type": "code",
   "execution_count": 6,
   "id": "fee252b9",
   "metadata": {},
   "outputs": [
    {
     "name": "stdout",
     "output_type": "stream",
     "text": [
      "Epoch 1/2\n",
      "375/375 [==============================] - 1s 2ms/step - loss: 0.3622 - accuracy: 0.9115 - val_loss: 0.1871 - val_accuracy: 0.9485\n",
      "Epoch 2/2\n",
      "375/375 [==============================] - 1s 2ms/step - loss: 0.1413 - accuracy: 0.9647 - val_loss: 0.1510 - val_accuracy: 0.9681\n"
     ]
    },
    {
     "data": {
      "text/plain": [
       "<keras.callbacks.History at 0x19f35918070>"
      ]
     },
     "execution_count": 6,
     "metadata": {},
     "output_type": "execute_result"
    }
   ],
   "source": [
    "model = keras.Sequential([\n",
    "    layers.Dense(512, activation=\"relu\"),\n",
    "    layers.Dense(10, activation=\"softmax\")\n",
    "])\n",
    "model.compile(optimizer=keras.optimizers.RMSprop(1e-2),\n",
    "              loss=\"sparse_categorical_crossentropy\",\n",
    "              metrics=[\"accuracy\"])\n",
    "model.fit(train_images, train_labels,\n",
    "          epochs=2,\n",
    "          batch_size=128,\n",
    "          validation_split=0.2)"
   ]
  },
  {
   "cell_type": "code",
   "execution_count": 7,
   "id": "b7c41db5",
   "metadata": {},
   "outputs": [
    {
     "name": "stdout",
     "output_type": "stream",
     "text": [
      "Epoch 1/2\n",
      "375/375 [==============================] - 1s 2ms/step - loss: 0.6686 - accuracy: 0.8396 - val_loss: 0.3559 - val_accuracy: 0.9053\n",
      "Epoch 2/2\n",
      "375/375 [==============================] - 1s 2ms/step - loss: 0.3511 - accuracy: 0.9032 - val_loss: 0.3054 - val_accuracy: 0.9161\n"
     ]
    }
   ],
   "source": [
    "model = keras.Sequential([layers.Dense(10, activation=\"softmax\")])\n",
    "model.compile(optimizer=\"rmsprop\",\n",
    "              loss=\"sparse_categorical_crossentropy\",\n",
    "              metrics=[\"accuracy\"])\n",
    "history_small_model = model.fit(\n",
    "    train_images, train_labels,\n",
    "    epochs=2,\n",
    "    batch_size=128,\n",
    "    validation_split=0.2)"
   ]
  },
  {
   "cell_type": "code",
   "execution_count": 8,
   "id": "3f037e98",
   "metadata": {},
   "outputs": [
    {
     "data": {
      "text/plain": [
       "<matplotlib.legend.Legend at 0x19f4b2d3910>"
      ]
     },
     "execution_count": 8,
     "metadata": {},
     "output_type": "execute_result"
    },
    {
     "data": {
      "image/png": "[encoded data removed]",
      "text/plain": [
       "<Figure size 432x288 with 1 Axes>"
      ]
     },
     "metadata": {
      "needs_background": "light"
     },
     "output_type": "display_data"
    }
   ],
   "source": [
    "import matplotlib.pyplot as plt\n",
    "val_loss = history_small_model.history[\"val_loss\"]\n",
    "epochs = range(1, 3)\n",
    "plt.plot(epochs, val_loss, \"b--\",\n",
    "         label=\"Validation loss\")\n",
    "plt.title(\"Effect of insufficient model capacity on validation loss\")\n",
    "plt.xlabel(\"Epochs\")\n",
    "plt.ylabel(\"Loss\")\n",
    "plt.legend()"
   ]
  },
  {
   "cell_type": "code",
   "execution_count": 9,
   "id": "f5173d79",
   "metadata": {},
   "outputs": [
    {
     "name": "stdout",
     "output_type": "stream",
     "text": [
      "Epoch 1/2\n",
      "375/375 [==============================] - 2s 3ms/step - loss: 0.3518 - accuracy: 0.8989 - val_loss: 0.1762 - val_accuracy: 0.9497\n",
      "Epoch 2/2\n",
      "375/375 [==============================] - 1s 3ms/step - loss: 0.1612 - accuracy: 0.9517 - val_loss: 0.1325 - val_accuracy: 0.9603\n"
     ]
    }
   ],
   "source": [
    "model = keras.Sequential([\n",
    "    layers.Dense(96, activation=\"relu\"),\n",
    "    layers.Dense(96, activation=\"relu\"),\n",
    "    layers.Dense(10, activation=\"softmax\"),\n",
    "])\n",
    "model.compile(optimizer=\"rmsprop\",\n",
    "              loss=\"sparse_categorical_crossentropy\",\n",
    "              metrics=[\"accuracy\"])\n",
    "history_large_model = model.fit(\n",
    "    train_images, train_labels,\n",
    "    epochs=2,\n",
    "    batch_size=128,\n",
    "    validation_split=0.2)"
   ]
  },
  {
   "cell_type": "code",
   "execution_count": 20,
   "id": "76772fb4",
   "metadata": {},
   "outputs": [
    {
     "name": "stdout",
     "output_type": "stream",
     "text": [
      "Epoch 1/2\n",
      "30/30 [==============================] - 2s 45ms/step - loss: 0.5490 - accuracy: 0.7749 - val_loss: 0.4314 - val_accuracy: 0.8674\n",
      "Epoch 2/2\n",
      "30/30 [==============================] - 1s 24ms/step - loss: 0.3435 - accuracy: 0.8955 - val_loss: 0.3367 - val_accuracy: 0.8730\n"
     ]
    }
   ],
   "source": [
    "from tensorflow.keras.datasets import imdb\n",
    "(train_data, train_labels), _ = imdb.load_data(num_words=10000)\n",
    "\n",
    "def vectorize_sequences(sequences, dimension=10000):\n",
    "    results = np.zeros((len(sequences), dimension))\n",
    "    for i, sequence in enumerate(sequences):\n",
    "        results[i, sequence] = 1.\n",
    "    return results\n",
    "train_data = vectorize_sequences(train_data)\n",
    "\n",
    "model = keras.Sequential([\n",
    "    layers.Dense(16, activation=\"relu\"),\n",
    "    layers.Dense(16, activation=\"relu\"),\n",
    "    layers.Dense(1, activation=\"sigmoid\")\n",
    "])\n",
    "model.compile(optimizer=\"rmsprop\",\n",
    "              loss=\"binary_crossentropy\",\n",
    "              metrics=[\"accuracy\"])\n",
    "history_original = model.fit(train_data, train_labels,\n",
    "                             epochs=2, batch_size=512, validation_split=0.4)\n"
   ]
  },
  {
   "cell_type": "code",
   "execution_count": 23,
   "id": "d0c388ab",
   "metadata": {},
   "outputs": [
    {
     "name": "stdout",
     "output_type": "stream",
     "text": [
      "Epoch 1/2\n",
      "30/30 [==============================] - 2s 39ms/step - loss: 0.6348 - accuracy: 0.7289 - val_loss: 0.5563 - val_accuracy: 0.8358\n",
      "Epoch 2/2\n",
      "30/30 [==============================] - 1s 24ms/step - loss: 0.4965 - accuracy: 0.8650 - val_loss: 0.4574 - val_accuracy: 0.8622\n"
     ]
    }
   ],
   "source": [
    "from tensorflow.keras.datasets import imdb\n",
    "(train_data, train_labels), _ = imdb.load_data(num_words=10000)\n",
    "\n",
    "def vectorize_sequences(sequences, dimension=10000):\n",
    "    results = np.zeros((len(sequences), dimension))\n",
    "    for i, sequence in enumerate(sequences):\n",
    "        results[i, sequence] = 1.\n",
    "    return results\n",
    "train_data = vectorize_sequences(train_data)\n",
    "model = keras.Sequential([\n",
    "    layers.Dense(4, activation=\"relu\"),\n",
    "    layers.Dense(4, activation=\"relu\"),\n",
    "    layers.Dense(1, activation=\"sigmoid\")\n",
    "])\n",
    "model.compile(optimizer=\"rmsprop\",\n",
    "              loss=\"binary_crossentropy\",\n",
    "              metrics=[\"accuracy\"])\n",
    "history_smaller_model = model.fit(\n",
    "    train_data, train_labels,\n",
    "    epochs=2, batch_size=512, validation_split=0.4)"
   ]
  },
  {
   "cell_type": "code",
   "execution_count": 12,
   "id": "eba59715",
   "metadata": {},
   "outputs": [
    {
     "name": "stdout",
     "output_type": "stream",
     "text": [
      "Epoch 1/2\n",
      "30/30 [==============================] - 2s 42ms/step - loss: 0.5650 - accuracy: 0.7374 - val_loss: 0.3238 - val_accuracy: 0.8763\n",
      "Epoch 2/2\n",
      "30/30 [==============================] - 1s 24ms/step - loss: 0.2535 - accuracy: 0.9025 - val_loss: 0.3429 - val_accuracy: 0.8538\n"
     ]
    }
   ],
   "source": [
    "from tensorflow.keras.datasets import imdb\n",
    "(train_data, train_labels), _ = imdb.load_data(num_words=10000)\n",
    "\n",
    "def vectorize_sequences(sequences, dimension=10000):\n",
    "    results = np.zeros((len(sequences), dimension))\n",
    "    for i, sequence in enumerate(sequences):\n",
    "        results[i, sequence] = 1.\n",
    "    return results\n",
    "train_data = vectorize_sequences(train_data)\n",
    "model = keras.Sequential([\n",
    "    layers.Dense(512, activation=\"relu\"),\n",
    "    layers.Dense(512, activation=\"relu\"),\n",
    "    layers.Dense(1, activation=\"sigmoid\")\n",
    "])\n",
    "model.compile(optimizer=\"rmsprop\",\n",
    "              loss=\"binary_crossentropy\",\n",
    "              metrics=[\"accuracy\"])\n",
    "history_larger_model = model.fit(\n",
    "    train_data, train_labels,\n",
    "    epochs=2, batch_size=512, validation_split=0.4)"
   ]
  },
  {
   "cell_type": "code",
   "execution_count": 13,
   "id": "f3e26e74",
   "metadata": {},
   "outputs": [
    {
     "name": "stdout",
     "output_type": "stream",
     "text": [
      "Epoch 1/2\n",
      "30/30 [==============================] - 2s 39ms/step - loss: 0.6034 - accuracy: 0.7879 - val_loss: 0.4810 - val_accuracy: 0.8704\n",
      "Epoch 2/2\n",
      "30/30 [==============================] - 1s 21ms/step - loss: 0.4139 - accuracy: 0.8954 - val_loss: 0.4182 - val_accuracy: 0.8744\n"
     ]
    }
   ],
   "source": [
    "from tensorflow.keras import regularizers\n",
    "from tensorflow.keras.datasets import imdb\n",
    "(train_data, train_labels), _ = imdb.load_data(num_words=10000)\n",
    "\n",
    "def vectorize_sequences(sequences, dimension=10000):\n",
    "    results = np.zeros((len(sequences), dimension))\n",
    "    for i, sequence in enumerate(sequences):\n",
    "        results[i, sequence] = 1.\n",
    "    return results\n",
    "train_data = vectorize_sequences(train_data)\n",
    "model = keras.Sequential([\n",
    "    layers.Dense(16,\n",
    "                 kernel_regularizer=regularizers.l2(0.002),\n",
    "                 activation=\"relu\"),\n",
    "    layers.Dense(16,\n",
    "                 kernel_regularizer=regularizers.l2(0.002),\n",
    "                 activation=\"relu\"),\n",
    "    layers.Dense(1, activation=\"sigmoid\")\n",
    "])\n",
    "model.compile(optimizer=\"rmsprop\",\n",
    "              loss=\"binary_crossentropy\",\n",
    "              metrics=[\"accuracy\"])\n",
    "history_l2_reg = model.fit(\n",
    "    train_data, train_labels,\n",
    "    epochs=2, batch_size=512, validation_split=0.4)"
   ]
  },
  {
   "cell_type": "code",
   "execution_count": 14,
   "id": "b02ec86a",
   "metadata": {},
   "outputs": [
    {
     "data": {
      "text/plain": [
       "<keras.regularizers.L1L2 at 0x1a045116d00>"
      ]
     },
     "execution_count": 14,
     "metadata": {},
     "output_type": "execute_result"
    }
   ],
   "source": [
    "from tensorflow.keras import regularizers\n",
    "regularizers.l1(0.001)\n",
    "regularizers.l1_l2(l1=0.001, l2=0.001)"
   ]
  },
  {
   "cell_type": "code",
   "execution_count": 15,
   "id": "6bf1a173",
   "metadata": {},
   "outputs": [
    {
     "name": "stdout",
     "output_type": "stream",
     "text": [
      "Epoch 1/2\n",
      "30/30 [==============================] - 2s 39ms/step - loss: 0.6166 - accuracy: 0.6619 - val_loss: 0.4845 - val_accuracy: 0.8477\n",
      "Epoch 2/2\n",
      "30/30 [==============================] - 1s 22ms/step - loss: 0.4863 - accuracy: 0.7907 - val_loss: 0.3840 - val_accuracy: 0.8766\n"
     ]
    }
   ],
   "source": [
    "from tensorflow.keras.datasets import imdb\n",
    "(train_data, train_labels), _ = imdb.load_data(num_words=10000)\n",
    "\n",
    "def vectorize_sequences(sequences, dimension=10000):\n",
    "    results = np.zeros((len(sequences), dimension))\n",
    "    for i, sequence in enumerate(sequences):\n",
    "        results[i, sequence] = 1.\n",
    "    return results\n",
    "train_data = vectorize_sequences(train_data)\n",
    "model = keras.Sequential([\n",
    "    layers.Dense(16, activation=\"relu\"),\n",
    "    layers.Dropout(0.5),\n",
    "    layers.Dense(16, activation=\"relu\"),\n",
    "    layers.Dropout(0.5),\n",
    "    layers.Dense(1, activation=\"sigmoid\")\n",
    "])\n",
    "model.compile(optimizer=\"rmsprop\",\n",
    "              loss=\"binary_crossentropy\",\n",
    "              metrics=[\"accuracy\"])\n",
    "history_dropout = model.fit(\n",
    "    train_data, train_labels,\n",
    "    epochs=2, batch_size=512, validation_split=0.4)"
   ]
  },
  {
   "cell_type": "markdown",
   "id": "b139b8f3",
   "metadata": {},
   "source": [
    "# 額外自己練習訓練的模型"
   ]
  },
  {
   "cell_type": "code",
   "execution_count": 4,
   "id": "c106619f",
   "metadata": {},
   "outputs": [],
   "source": [
    "from tensorflow.keras.datasets import mnist\n",
    "import numpy as np\n",
    "\n",
    "(train_images, train_labels), _ = mnist.load_data()\n",
    "train_images = train_images.reshape((60000, 28 * 28))\n",
    "train_images = train_images.astype(\"float32\") / 255\n",
    "\n",
    "train_images_with_noise_channels = np.concatenate(\n",
    "    [train_images, np.random.random((len(train_images), 784))], axis=1)\n",
    "\n",
    "train_images_with_zeros_channels = np.concatenate(\n",
    "    [train_images, np.zeros((len(train_images), 784))], axis=1)"
   ]
  },
  {
   "cell_type": "code",
   "execution_count": 5,
   "id": "2d9c7e89",
   "metadata": {},
   "outputs": [
    {
     "name": "stdout",
     "output_type": "stream",
     "text": [
      "Epoch 1/30\n",
      "375/375 [==============================] - 3s 4ms/step - loss: 0.6275 - accuracy: 0.8082 - val_loss: 0.2961 - val_accuracy: 0.9127\n",
      "Epoch 2/30\n",
      "375/375 [==============================] - 1s 3ms/step - loss: 0.2599 - accuracy: 0.9201 - val_loss: 0.2725 - val_accuracy: 0.9202\n",
      "Epoch 3/30\n",
      "375/375 [==============================] - 1s 2ms/step - loss: 0.1692 - accuracy: 0.9477 - val_loss: 0.1611 - val_accuracy: 0.9533\n",
      "Epoch 4/30\n",
      "375/375 [==============================] - 1s 3ms/step - loss: 0.1184 - accuracy: 0.9624 - val_loss: 0.1376 - val_accuracy: 0.9578\n",
      "Epoch 5/30\n",
      "375/375 [==============================] - 1s 2ms/step - loss: 0.0870 - accuracy: 0.9733 - val_loss: 0.1592 - val_accuracy: 0.9539\n",
      "Epoch 6/30\n",
      "375/375 [==============================] - 1s 2ms/step - loss: 0.0647 - accuracy: 0.9795 - val_loss: 0.1406 - val_accuracy: 0.9610\n",
      "Epoch 7/30\n",
      "375/375 [==============================] - 1s 2ms/step - loss: 0.0482 - accuracy: 0.9842 - val_loss: 0.1274 - val_accuracy: 0.9667\n",
      "Epoch 8/30\n",
      "375/375 [==============================] - 1s 2ms/step - loss: 0.0342 - accuracy: 0.9887 - val_loss: 0.1336 - val_accuracy: 0.9657\n",
      "Epoch 9/30\n",
      "375/375 [==============================] - 1s 2ms/step - loss: 0.0274 - accuracy: 0.9911 - val_loss: 0.1548 - val_accuracy: 0.9623\n",
      "Epoch 10/30\n",
      "375/375 [==============================] - 1s 2ms/step - loss: 0.0215 - accuracy: 0.9932 - val_loss: 0.1528 - val_accuracy: 0.9630\n",
      "Epoch 11/30\n",
      "375/375 [==============================] - 1s 2ms/step - loss: 0.0161 - accuracy: 0.9949 - val_loss: 0.1428 - val_accuracy: 0.9688\n",
      "Epoch 12/30\n",
      "375/375 [==============================] - 1s 2ms/step - loss: 0.0137 - accuracy: 0.9955 - val_loss: 0.1673 - val_accuracy: 0.9639\n",
      "Epoch 13/30\n",
      "375/375 [==============================] - 1s 2ms/step - loss: 0.0116 - accuracy: 0.9961 - val_loss: 0.1493 - val_accuracy: 0.9698\n",
      "Epoch 14/30\n",
      "375/375 [==============================] - 1s 2ms/step - loss: 0.0100 - accuracy: 0.9968 - val_loss: 0.1803 - val_accuracy: 0.9653\n",
      "Epoch 15/30\n",
      "375/375 [==============================] - 1s 2ms/step - loss: 0.0107 - accuracy: 0.9970 - val_loss: 0.1796 - val_accuracy: 0.9662\n",
      "Epoch 16/30\n",
      "375/375 [==============================] - 1s 2ms/step - loss: 0.0076 - accuracy: 0.9976 - val_loss: 0.1686 - val_accuracy: 0.9701\n",
      "Epoch 17/30\n",
      "375/375 [==============================] - 1s 2ms/step - loss: 0.0074 - accuracy: 0.9976 - val_loss: 0.1602 - val_accuracy: 0.9714\n",
      "Epoch 18/30\n",
      "375/375 [==============================] - 1s 2ms/step - loss: 0.0067 - accuracy: 0.9980 - val_loss: 0.1680 - val_accuracy: 0.9729\n",
      "Epoch 19/30\n",
      "375/375 [==============================] - 1s 2ms/step - loss: 0.0078 - accuracy: 0.9977 - val_loss: 0.2297 - val_accuracy: 0.9633\n",
      "Epoch 20/30\n",
      "375/375 [==============================] - 1s 2ms/step - loss: 0.0072 - accuracy: 0.9979 - val_loss: 0.3050 - val_accuracy: 0.9553\n",
      "Epoch 21/30\n",
      "375/375 [==============================] - 1s 2ms/step - loss: 0.0067 - accuracy: 0.9981 - val_loss: 0.2109 - val_accuracy: 0.9661\n",
      "Epoch 22/30\n",
      "375/375 [==============================] - 1s 2ms/step - loss: 0.0063 - accuracy: 0.9981 - val_loss: 0.1941 - val_accuracy: 0.9718\n",
      "Epoch 23/30\n",
      "375/375 [==============================] - 1s 2ms/step - loss: 0.0043 - accuracy: 0.9986 - val_loss: 0.2812 - val_accuracy: 0.9595\n",
      "Epoch 24/30\n",
      "375/375 [==============================] - 1s 2ms/step - loss: 0.0052 - accuracy: 0.9983 - val_loss: 0.2046 - val_accuracy: 0.9720\n",
      "Epoch 25/30\n",
      "375/375 [==============================] - 1s 2ms/step - loss: 0.0049 - accuracy: 0.9986 - val_loss: 0.2192 - val_accuracy: 0.9683\n",
      "Epoch 26/30\n",
      "375/375 [==============================] - 1s 2ms/step - loss: 0.0041 - accuracy: 0.9986 - val_loss: 0.2008 - val_accuracy: 0.9729\n",
      "Epoch 27/30\n",
      "375/375 [==============================] - 1s 2ms/step - loss: 0.0043 - accuracy: 0.9987 - val_loss: 0.2414 - val_accuracy: 0.9682\n",
      "Epoch 28/30\n",
      "375/375 [==============================] - 1s 2ms/step - loss: 0.0045 - accuracy: 0.9986 - val_loss: 0.2221 - val_accuracy: 0.9718\n",
      "Epoch 29/30\n",
      "375/375 [==============================] - 1s 2ms/step - loss: 0.0048 - accuracy: 0.9986 - val_loss: 0.2638 - val_accuracy: 0.9691\n",
      "Epoch 30/30\n",
      "375/375 [==============================] - 1s 2ms/step - loss: 0.0044 - accuracy: 0.9988 - val_loss: 0.2245 - val_accuracy: 0.9726\n",
      "Epoch 1/30\n",
      "375/375 [==============================] - 1s 3ms/step - loss: 0.3491 - accuracy: 0.9041 - val_loss: 0.2054 - val_accuracy: 0.9385\n",
      "Epoch 2/30\n",
      "375/375 [==============================] - 1s 2ms/step - loss: 0.1367 - accuracy: 0.9598 - val_loss: 0.1136 - val_accuracy: 0.9662\n",
      "Epoch 3/30\n",
      "375/375 [==============================] - 1s 2ms/step - loss: 0.0873 - accuracy: 0.9737 - val_loss: 0.0970 - val_accuracy: 0.9722\n",
      "Epoch 4/30\n",
      "375/375 [==============================] - 1s 2ms/step - loss: 0.0633 - accuracy: 0.9814 - val_loss: 0.0812 - val_accuracy: 0.9757\n",
      "Epoch 5/30\n",
      "375/375 [==============================] - 1s 3ms/step - loss: 0.0463 - accuracy: 0.9860 - val_loss: 0.0867 - val_accuracy: 0.9758\n",
      "Epoch 6/30\n",
      "375/375 [==============================] - 1s 2ms/step - loss: 0.0362 - accuracy: 0.9892 - val_loss: 0.0837 - val_accuracy: 0.9762\n",
      "Epoch 7/30\n",
      "375/375 [==============================] - 1s 2ms/step - loss: 0.0271 - accuracy: 0.9923 - val_loss: 0.0829 - val_accuracy: 0.9780\n",
      "Epoch 8/30\n",
      "375/375 [==============================] - 1s 2ms/step - loss: 0.0206 - accuracy: 0.9937 - val_loss: 0.0797 - val_accuracy: 0.9783\n",
      "Epoch 9/30\n",
      "375/375 [==============================] - 1s 2ms/step - loss: 0.0163 - accuracy: 0.9954 - val_loss: 0.0825 - val_accuracy: 0.9793\n",
      "Epoch 10/30\n",
      "375/375 [==============================] - 1s 2ms/step - loss: 0.0118 - accuracy: 0.9966 - val_loss: 0.0876 - val_accuracy: 0.9792\n",
      "Epoch 11/30\n",
      "375/375 [==============================] - 1s 2ms/step - loss: 0.0098 - accuracy: 0.9974 - val_loss: 0.0919 - val_accuracy: 0.9792\n",
      "Epoch 12/30\n",
      "375/375 [==============================] - 1s 2ms/step - loss: 0.0074 - accuracy: 0.9981 - val_loss: 0.0917 - val_accuracy: 0.9803\n",
      "Epoch 13/30\n",
      "375/375 [==============================] - 1s 2ms/step - loss: 0.0053 - accuracy: 0.9987 - val_loss: 0.0908 - val_accuracy: 0.9807\n",
      "Epoch 14/30\n",
      "375/375 [==============================] - 1s 2ms/step - loss: 0.0041 - accuracy: 0.9990 - val_loss: 0.1032 - val_accuracy: 0.9789\n",
      "Epoch 15/30\n",
      "375/375 [==============================] - 1s 2ms/step - loss: 0.0033 - accuracy: 0.9992 - val_loss: 0.1057 - val_accuracy: 0.9792\n",
      "Epoch 16/30\n",
      "375/375 [==============================] - 1s 2ms/step - loss: 0.0026 - accuracy: 0.9994 - val_loss: 0.1083 - val_accuracy: 0.9800\n",
      "Epoch 17/30\n",
      "375/375 [==============================] - 1s 2ms/step - loss: 0.0018 - accuracy: 0.9996 - val_loss: 0.1103 - val_accuracy: 0.9791\n",
      "Epoch 18/30\n",
      "375/375 [==============================] - 1s 2ms/step - loss: 0.0014 - accuracy: 0.9997 - val_loss: 0.1208 - val_accuracy: 0.9786\n",
      "Epoch 19/30\n",
      "375/375 [==============================] - 1s 2ms/step - loss: 0.0012 - accuracy: 0.9996 - val_loss: 0.1203 - val_accuracy: 0.9797\n",
      "Epoch 20/30\n",
      "375/375 [==============================] - 1s 2ms/step - loss: 8.3720e-04 - accuracy: 0.9999 - val_loss: 0.1226 - val_accuracy: 0.9801\n",
      "Epoch 21/30\n",
      "375/375 [==============================] - 1s 2ms/step - loss: 8.4998e-04 - accuracy: 0.9998 - val_loss: 0.1210 - val_accuracy: 0.9812\n",
      "Epoch 22/30\n",
      "375/375 [==============================] - 1s 2ms/step - loss: 4.0799e-04 - accuracy: 0.9999 - val_loss: 0.1333 - val_accuracy: 0.9799\n",
      "Epoch 23/30\n",
      "375/375 [==============================] - 1s 2ms/step - loss: 4.8987e-04 - accuracy: 0.9998 - val_loss: 0.1309 - val_accuracy: 0.9808\n",
      "Epoch 24/30\n",
      "375/375 [==============================] - 1s 2ms/step - loss: 3.8983e-04 - accuracy: 0.9999 - val_loss: 0.1387 - val_accuracy: 0.9805\n",
      "Epoch 25/30\n",
      "375/375 [==============================] - 1s 2ms/step - loss: 3.9128e-04 - accuracy: 0.9999 - val_loss: 0.1365 - val_accuracy: 0.9818\n",
      "Epoch 26/30\n",
      "375/375 [==============================] - 1s 2ms/step - loss: 2.3286e-04 - accuracy: 0.9999 - val_loss: 0.1317 - val_accuracy: 0.9810\n",
      "Epoch 27/30\n",
      "375/375 [==============================] - 1s 2ms/step - loss: 3.0427e-04 - accuracy: 0.9999 - val_loss: 0.1411 - val_accuracy: 0.9817\n",
      "Epoch 28/30\n"
     ]
    },
    {
     "name": "stdout",
     "output_type": "stream",
     "text": [
      "375/375 [==============================] - 1s 2ms/step - loss: 9.6498e-05 - accuracy: 1.0000 - val_loss: 0.1503 - val_accuracy: 0.9815\n",
      "Epoch 29/30\n",
      "375/375 [==============================] - 1s 2ms/step - loss: 8.3172e-05 - accuracy: 1.0000 - val_loss: 0.1538 - val_accuracy: 0.9806\n",
      "Epoch 30/30\n",
      "375/375 [==============================] - 1s 2ms/step - loss: 2.0817e-04 - accuracy: 0.9999 - val_loss: 0.1547 - val_accuracy: 0.9811\n"
     ]
    }
   ],
   "source": [
    "from tensorflow import keras\n",
    "from tensorflow.keras import layers\n",
    "\n",
    "def get_model():\n",
    "    model = keras.Sequential([\n",
    "        layers.Dense(512, activation=\"relu\"),\n",
    "        layers.Dense(256, activation=\"softmax\")\n",
    "    ])\n",
    "    model.compile(optimizer=\"rmsprop\",\n",
    "                  loss=\"sparse_categorical_crossentropy\",\n",
    "                  metrics=[\"accuracy\"])\n",
    "    return model\n",
    "\n",
    "model = get_model()\n",
    "history_noise = model.fit(\n",
    "    train_images_with_noise_channels, train_labels,\n",
    "    epochs=30,\n",
    "    batch_size=128,\n",
    "    validation_split=0.2)\n",
    "\n",
    "model = get_model()\n",
    "history_zeros = model.fit(\n",
    "    train_images_with_zeros_channels, train_labels,\n",
    "    epochs=30,\n",
    "    batch_size=128,\n",
    "    validation_split=0.2)"
   ]
  },
  {
   "cell_type": "code",
   "execution_count": 8,
   "id": "bb2fa8a3",
   "metadata": {},
   "outputs": [
    {
     "data": {
      "text/plain": [
       "<matplotlib.legend.Legend at 0x2adcb4f8790>"
      ]
     },
     "execution_count": 8,
     "metadata": {},
     "output_type": "execute_result"
    },
    {
     "data": {
      "image/png": "[encoded data removed]",
      "text/plain": [
       "<Figure size 432x288 with 1 Axes>"
      ]
     },
     "metadata": {
      "needs_background": "light"
     },
     "output_type": "display_data"
    }
   ],
   "source": [
    "import matplotlib.pyplot as plt\n",
    "val_acc_noise = history_noise.history[\"val_accuracy\"]\n",
    "val_acc_zeros = history_zeros.history[\"val_accuracy\"]\n",
    "epochs = range(1, 31)\n",
    "plt.plot(epochs, val_acc_noise, \"b-\",\n",
    "         label=\"Validation accuracy with noise channels\")\n",
    "plt.plot(epochs, val_acc_zeros, \"b--\",\n",
    "         label=\"Validation accuracy with zeros channels\")\n",
    "plt.title(\"Effect of noise channels on validation accuracy\")\n",
    "plt.xlabel(\"Epochs\")\n",
    "plt.ylabel(\"Accuracy\")\n",
    "plt.legend()"
   ]
  },
  {
   "cell_type": "markdown",
   "id": "410b6d53",
   "metadata": {},
   "source": [
    "# The nature of generalization in deep learning\n",
    "### Fitting a MNIST model with randomly shuffled labels"
   ]
  },
  {
   "cell_type": "code",
   "execution_count": 9,
   "id": "df64b83e",
   "metadata": {},
   "outputs": [
    {
     "name": "stdout",
     "output_type": "stream",
     "text": [
      "Epoch 1/100\n",
      "375/375 [==============================] - 1s 2ms/step - loss: 2.3809 - accuracy: 0.0980 - val_loss: 2.3234 - val_accuracy: 0.1065\n",
      "Epoch 2/100\n",
      "375/375 [==============================] - 1s 2ms/step - loss: 2.3095 - accuracy: 0.1124 - val_loss: 2.3105 - val_accuracy: 0.1035\n",
      "Epoch 3/100\n",
      "375/375 [==============================] - 1s 2ms/step - loss: 2.2969 - accuracy: 0.1205 - val_loss: 2.3148 - val_accuracy: 0.1050\n",
      "Epoch 4/100\n",
      "375/375 [==============================] - 1s 2ms/step - loss: 2.2852 - accuracy: 0.1334 - val_loss: 2.3220 - val_accuracy: 0.1028\n",
      "Epoch 5/100\n",
      "375/375 [==============================] - 1s 2ms/step - loss: 2.2703 - accuracy: 0.1471 - val_loss: 2.3296 - val_accuracy: 0.0996\n",
      "Epoch 6/100\n",
      "375/375 [==============================] - 1s 2ms/step - loss: 2.2527 - accuracy: 0.1625 - val_loss: 2.3484 - val_accuracy: 0.1016\n",
      "Epoch 7/100\n",
      "375/375 [==============================] - 1s 2ms/step - loss: 2.2298 - accuracy: 0.1735 - val_loss: 2.3572 - val_accuracy: 0.0987\n",
      "Epoch 8/100\n",
      "375/375 [==============================] - 1s 2ms/step - loss: 2.2054 - accuracy: 0.1888 - val_loss: 2.3745 - val_accuracy: 0.1083\n",
      "Epoch 9/100\n",
      "375/375 [==============================] - 1s 2ms/step - loss: 2.1788 - accuracy: 0.2046 - val_loss: 2.3918 - val_accuracy: 0.1063\n",
      "Epoch 10/100\n",
      "375/375 [==============================] - 1s 2ms/step - loss: 2.1497 - accuracy: 0.2216 - val_loss: 2.4129 - val_accuracy: 0.1050\n",
      "Epoch 11/100\n",
      "375/375 [==============================] - 1s 2ms/step - loss: 2.1188 - accuracy: 0.2358 - val_loss: 2.4381 - val_accuracy: 0.1046\n",
      "Epoch 12/100\n",
      "375/375 [==============================] - 1s 2ms/step - loss: 2.0853 - accuracy: 0.2530 - val_loss: 2.4551 - val_accuracy: 0.1047\n",
      "Epoch 13/100\n",
      "375/375 [==============================] - 1s 2ms/step - loss: 2.0521 - accuracy: 0.2651 - val_loss: 2.4811 - val_accuracy: 0.1058\n",
      "Epoch 14/100\n",
      "375/375 [==============================] - 1s 2ms/step - loss: 2.0196 - accuracy: 0.2801 - val_loss: 2.5154 - val_accuracy: 0.1077\n",
      "Epoch 15/100\n",
      "375/375 [==============================] - 1s 2ms/step - loss: 1.9845 - accuracy: 0.2991 - val_loss: 2.5515 - val_accuracy: 0.1038\n",
      "Epoch 16/100\n",
      "375/375 [==============================] - 1s 2ms/step - loss: 1.9517 - accuracy: 0.3098 - val_loss: 2.5829 - val_accuracy: 0.1036\n",
      "Epoch 17/100\n",
      "375/375 [==============================] - 1s 2ms/step - loss: 1.9181 - accuracy: 0.3245 - val_loss: 2.6067 - val_accuracy: 0.1052\n",
      "Epoch 18/100\n",
      "375/375 [==============================] - 1s 2ms/step - loss: 1.8847 - accuracy: 0.3386 - val_loss: 2.6339 - val_accuracy: 0.1018\n",
      "Epoch 19/100\n",
      "375/375 [==============================] - 1s 2ms/step - loss: 1.8515 - accuracy: 0.3522 - val_loss: 2.6853 - val_accuracy: 0.1026\n",
      "Epoch 20/100\n",
      "375/375 [==============================] - 1s 2ms/step - loss: 1.8196 - accuracy: 0.3643 - val_loss: 2.6996 - val_accuracy: 0.1018\n",
      "Epoch 21/100\n",
      "375/375 [==============================] - 1s 2ms/step - loss: 1.7895 - accuracy: 0.3760 - val_loss: 2.7496 - val_accuracy: 0.1007\n",
      "Epoch 22/100\n",
      "375/375 [==============================] - 1s 2ms/step - loss: 1.7560 - accuracy: 0.3894 - val_loss: 2.7722 - val_accuracy: 0.1072\n",
      "Epoch 23/100\n",
      "375/375 [==============================] - 1s 2ms/step - loss: 1.7257 - accuracy: 0.4002 - val_loss: 2.8114 - val_accuracy: 0.1026\n",
      "Epoch 24/100\n",
      "375/375 [==============================] - 1s 2ms/step - loss: 1.6969 - accuracy: 0.4103 - val_loss: 2.8563 - val_accuracy: 0.1042\n",
      "Epoch 25/100\n",
      "375/375 [==============================] - 1s 2ms/step - loss: 1.6658 - accuracy: 0.4218 - val_loss: 2.8976 - val_accuracy: 0.1038\n",
      "Epoch 26/100\n",
      "375/375 [==============================] - 1s 2ms/step - loss: 1.6388 - accuracy: 0.4324 - val_loss: 2.9448 - val_accuracy: 0.1058\n",
      "Epoch 27/100\n",
      "375/375 [==============================] - 1s 2ms/step - loss: 1.6099 - accuracy: 0.4436 - val_loss: 2.9731 - val_accuracy: 0.1047\n",
      "Epoch 28/100\n",
      "375/375 [==============================] - 1s 2ms/step - loss: 1.5837 - accuracy: 0.4523 - val_loss: 3.0121 - val_accuracy: 0.1034\n",
      "Epoch 29/100\n",
      "375/375 [==============================] - 1s 2ms/step - loss: 1.5544 - accuracy: 0.4655 - val_loss: 3.0484 - val_accuracy: 0.1070\n",
      "Epoch 30/100\n",
      "375/375 [==============================] - 1s 2ms/step - loss: 1.5301 - accuracy: 0.4727 - val_loss: 3.0923 - val_accuracy: 0.1098\n",
      "Epoch 31/100\n",
      "375/375 [==============================] - 1s 2ms/step - loss: 1.5037 - accuracy: 0.4842 - val_loss: 3.1413 - val_accuracy: 0.1018\n",
      "Epoch 32/100\n",
      "375/375 [==============================] - 1s 2ms/step - loss: 1.4786 - accuracy: 0.4939 - val_loss: 3.1741 - val_accuracy: 0.1044\n",
      "Epoch 33/100\n",
      "375/375 [==============================] - 1s 2ms/step - loss: 1.4543 - accuracy: 0.5005 - val_loss: 3.2367 - val_accuracy: 0.1074\n",
      "Epoch 34/100\n",
      "375/375 [==============================] - 1s 2ms/step - loss: 1.4297 - accuracy: 0.5125 - val_loss: 3.2967 - val_accuracy: 0.1021\n",
      "Epoch 35/100\n",
      "375/375 [==============================] - 1s 2ms/step - loss: 1.4053 - accuracy: 0.5173 - val_loss: 3.3311 - val_accuracy: 0.1058\n",
      "Epoch 36/100\n",
      "375/375 [==============================] - 1s 2ms/step - loss: 1.3819 - accuracy: 0.5285 - val_loss: 3.3615 - val_accuracy: 0.1066\n",
      "Epoch 37/100\n",
      "375/375 [==============================] - 1s 3ms/step - loss: 1.3613 - accuracy: 0.5350 - val_loss: 3.4202 - val_accuracy: 0.1014\n",
      "Epoch 38/100\n",
      "375/375 [==============================] - 1s 2ms/step - loss: 1.3402 - accuracy: 0.5450 - val_loss: 3.4658 - val_accuracy: 0.1024\n",
      "Epoch 39/100\n",
      "375/375 [==============================] - 1s 2ms/step - loss: 1.3181 - accuracy: 0.5508 - val_loss: 3.5032 - val_accuracy: 0.1044\n",
      "Epoch 40/100\n",
      "375/375 [==============================] - 1s 2ms/step - loss: 1.2970 - accuracy: 0.5589 - val_loss: 3.5272 - val_accuracy: 0.1040\n",
      "Epoch 41/100\n",
      "375/375 [==============================] - 1s 2ms/step - loss: 1.2740 - accuracy: 0.5663 - val_loss: 3.6041 - val_accuracy: 0.1028\n",
      "Epoch 42/100\n",
      "375/375 [==============================] - 1s 2ms/step - loss: 1.2525 - accuracy: 0.5760 - val_loss: 3.6449 - val_accuracy: 0.1018\n",
      "Epoch 43/100\n",
      "375/375 [==============================] - 1s 2ms/step - loss: 1.2362 - accuracy: 0.5800 - val_loss: 3.7166 - val_accuracy: 0.1061\n",
      "Epoch 44/100\n",
      "375/375 [==============================] - 1s 2ms/step - loss: 1.2177 - accuracy: 0.5847 - val_loss: 3.7718 - val_accuracy: 0.1042\n",
      "Epoch 45/100\n",
      "375/375 [==============================] - 1s 2ms/step - loss: 1.1976 - accuracy: 0.5923 - val_loss: 3.7978 - val_accuracy: 0.1055\n",
      "Epoch 46/100\n",
      "375/375 [==============================] - 1s 2ms/step - loss: 1.1789 - accuracy: 0.6010 - val_loss: 3.8248 - val_accuracy: 0.1030\n",
      "Epoch 47/100\n",
      "375/375 [==============================] - 1s 2ms/step - loss: 1.1619 - accuracy: 0.6086 - val_loss: 3.8837 - val_accuracy: 0.1037\n",
      "Epoch 48/100\n",
      "375/375 [==============================] - 1s 2ms/step - loss: 1.1457 - accuracy: 0.6126 - val_loss: 3.9412 - val_accuracy: 0.1013\n",
      "Epoch 49/100\n",
      "375/375 [==============================] - 1s 2ms/step - loss: 1.1264 - accuracy: 0.6199 - val_loss: 3.9785 - val_accuracy: 0.1062\n",
      "Epoch 50/100\n",
      "375/375 [==============================] - 1s 2ms/step - loss: 1.1115 - accuracy: 0.6254 - val_loss: 4.0746 - val_accuracy: 0.1036\n",
      "Epoch 51/100\n",
      "375/375 [==============================] - 1s 2ms/step - loss: 1.0915 - accuracy: 0.6345 - val_loss: 4.0808 - val_accuracy: 0.0976\n",
      "Epoch 52/100\n",
      "375/375 [==============================] - 1s 2ms/step - loss: 1.0745 - accuracy: 0.6389 - val_loss: 4.1711 - val_accuracy: 0.1038\n",
      "Epoch 53/100\n",
      "375/375 [==============================] - 1s 3ms/step - loss: 1.0583 - accuracy: 0.6445 - val_loss: 4.2004 - val_accuracy: 0.1015\n",
      "Epoch 54/100\n",
      "375/375 [==============================] - 1s 2ms/step - loss: 1.0415 - accuracy: 0.6515 - val_loss: 4.2693 - val_accuracy: 0.1007\n",
      "Epoch 55/100\n",
      "375/375 [==============================] - 1s 2ms/step - loss: 1.0271 - accuracy: 0.6560 - val_loss: 4.2940 - val_accuracy: 0.1053\n",
      "Epoch 56/100\n",
      "375/375 [==============================] - 1s 2ms/step - loss: 1.0087 - accuracy: 0.6616 - val_loss: 4.3935 - val_accuracy: 0.1017\n",
      "Epoch 57/100\n",
      "375/375 [==============================] - 1s 2ms/step - loss: 0.9964 - accuracy: 0.6669 - val_loss: 4.4452 - val_accuracy: 0.1008\n"
     ]
    },
    {
     "name": "stdout",
     "output_type": "stream",
     "text": [
      "Epoch 58/100\n",
      "375/375 [==============================] - 1s 2ms/step - loss: 0.9819 - accuracy: 0.6701 - val_loss: 4.4934 - val_accuracy: 0.1058\n",
      "Epoch 59/100\n",
      "375/375 [==============================] - 1s 2ms/step - loss: 0.9664 - accuracy: 0.6786 - val_loss: 4.5668 - val_accuracy: 0.1015\n",
      "Epoch 60/100\n",
      "375/375 [==============================] - 1s 3ms/step - loss: 0.9518 - accuracy: 0.6835 - val_loss: 4.5947 - val_accuracy: 0.1040\n",
      "Epoch 61/100\n",
      "375/375 [==============================] - 1s 2ms/step - loss: 0.9381 - accuracy: 0.6866 - val_loss: 4.6145 - val_accuracy: 0.1041\n",
      "Epoch 62/100\n",
      "375/375 [==============================] - 1s 2ms/step - loss: 0.9229 - accuracy: 0.6914 - val_loss: 4.7034 - val_accuracy: 0.1027\n",
      "Epoch 63/100\n",
      "375/375 [==============================] - 1s 2ms/step - loss: 0.9107 - accuracy: 0.6954 - val_loss: 4.7316 - val_accuracy: 0.1034\n",
      "Epoch 64/100\n",
      "375/375 [==============================] - 1s 2ms/step - loss: 0.8970 - accuracy: 0.7025 - val_loss: 4.8080 - val_accuracy: 0.1030\n",
      "Epoch 65/100\n",
      "375/375 [==============================] - 1s 2ms/step - loss: 0.8848 - accuracy: 0.7056 - val_loss: 4.8673 - val_accuracy: 0.1029\n",
      "Epoch 66/100\n",
      "375/375 [==============================] - 1s 2ms/step - loss: 0.8683 - accuracy: 0.7123 - val_loss: 4.9201 - val_accuracy: 0.1050\n",
      "Epoch 67/100\n",
      "375/375 [==============================] - 1s 2ms/step - loss: 0.8565 - accuracy: 0.7161 - val_loss: 4.9919 - val_accuracy: 0.1055\n",
      "Epoch 68/100\n",
      "375/375 [==============================] - 1s 2ms/step - loss: 0.8461 - accuracy: 0.7206 - val_loss: 5.0539 - val_accuracy: 0.1024\n",
      "Epoch 69/100\n",
      "375/375 [==============================] - 1s 2ms/step - loss: 0.8330 - accuracy: 0.7238 - val_loss: 5.1005 - val_accuracy: 0.1019\n",
      "Epoch 70/100\n",
      "375/375 [==============================] - 1s 2ms/step - loss: 0.8219 - accuracy: 0.7271 - val_loss: 5.1266 - val_accuracy: 0.1015\n",
      "Epoch 71/100\n",
      "375/375 [==============================] - 1s 2ms/step - loss: 0.8074 - accuracy: 0.7337 - val_loss: 5.2015 - val_accuracy: 0.1005\n",
      "Epoch 72/100\n",
      "375/375 [==============================] - 1s 3ms/step - loss: 0.7970 - accuracy: 0.7361 - val_loss: 5.2674 - val_accuracy: 0.1033\n",
      "Epoch 73/100\n",
      "375/375 [==============================] - 1s 3ms/step - loss: 0.7835 - accuracy: 0.7406 - val_loss: 5.3504 - val_accuracy: 0.1032\n",
      "Epoch 74/100\n",
      "375/375 [==============================] - 1s 2ms/step - loss: 0.7753 - accuracy: 0.7449 - val_loss: 5.3795 - val_accuracy: 0.1041\n",
      "Epoch 75/100\n",
      "375/375 [==============================] - 1s 2ms/step - loss: 0.7608 - accuracy: 0.7491 - val_loss: 5.4483 - val_accuracy: 0.1064\n",
      "Epoch 76/100\n",
      "375/375 [==============================] - 1s 2ms/step - loss: 0.7485 - accuracy: 0.7544 - val_loss: 5.4954 - val_accuracy: 0.1048\n",
      "Epoch 77/100\n",
      "375/375 [==============================] - 1s 2ms/step - loss: 0.7400 - accuracy: 0.7551 - val_loss: 5.5637 - val_accuracy: 0.1018\n",
      "Epoch 78/100\n",
      "375/375 [==============================] - 1s 2ms/step - loss: 0.7283 - accuracy: 0.7611 - val_loss: 5.6563 - val_accuracy: 0.1029\n",
      "Epoch 79/100\n",
      "375/375 [==============================] - 1s 2ms/step - loss: 0.7164 - accuracy: 0.7632 - val_loss: 5.6894 - val_accuracy: 0.1014\n",
      "Epoch 80/100\n",
      "375/375 [==============================] - 1s 2ms/step - loss: 0.7073 - accuracy: 0.7667 - val_loss: 5.7664 - val_accuracy: 0.1009\n",
      "Epoch 81/100\n",
      "375/375 [==============================] - 1s 2ms/step - loss: 0.6962 - accuracy: 0.7703 - val_loss: 5.8738 - val_accuracy: 0.1045\n",
      "Epoch 82/100\n",
      "375/375 [==============================] - 1s 2ms/step - loss: 0.6860 - accuracy: 0.7759 - val_loss: 5.8885 - val_accuracy: 0.1009\n",
      "Epoch 83/100\n",
      "375/375 [==============================] - 1s 2ms/step - loss: 0.6763 - accuracy: 0.7794 - val_loss: 5.9323 - val_accuracy: 0.1012\n",
      "Epoch 84/100\n",
      "375/375 [==============================] - 1s 2ms/step - loss: 0.6666 - accuracy: 0.7821 - val_loss: 6.0089 - val_accuracy: 0.1021\n",
      "Epoch 85/100\n",
      "375/375 [==============================] - 1s 2ms/step - loss: 0.6592 - accuracy: 0.7851 - val_loss: 6.0457 - val_accuracy: 0.1014\n",
      "Epoch 86/100\n",
      "375/375 [==============================] - 1s 2ms/step - loss: 0.6481 - accuracy: 0.7890 - val_loss: 6.1641 - val_accuracy: 0.1026\n",
      "Epoch 87/100\n",
      "375/375 [==============================] - 1s 2ms/step - loss: 0.6398 - accuracy: 0.7905 - val_loss: 6.1919 - val_accuracy: 0.1017\n",
      "Epoch 88/100\n",
      "375/375 [==============================] - 1s 2ms/step - loss: 0.6302 - accuracy: 0.7952 - val_loss: 6.2227 - val_accuracy: 0.1026\n",
      "Epoch 89/100\n",
      "375/375 [==============================] - 1s 2ms/step - loss: 0.6185 - accuracy: 0.8002 - val_loss: 6.3234 - val_accuracy: 0.1018\n",
      "Epoch 90/100\n",
      "375/375 [==============================] - 1s 2ms/step - loss: 0.6118 - accuracy: 0.8001 - val_loss: 6.4069 - val_accuracy: 0.1029\n",
      "Epoch 91/100\n",
      "375/375 [==============================] - 1s 2ms/step - loss: 0.6057 - accuracy: 0.8029 - val_loss: 6.4313 - val_accuracy: 0.1045\n",
      "Epoch 92/100\n",
      "375/375 [==============================] - 1s 2ms/step - loss: 0.5954 - accuracy: 0.8059 - val_loss: 6.4961 - val_accuracy: 0.1028\n",
      "Epoch 93/100\n",
      "375/375 [==============================] - 1s 2ms/step - loss: 0.5837 - accuracy: 0.8109 - val_loss: 6.5779 - val_accuracy: 0.1021\n",
      "Epoch 94/100\n",
      "375/375 [==============================] - 1s 2ms/step - loss: 0.5766 - accuracy: 0.8128 - val_loss: 6.6147 - val_accuracy: 0.1018\n",
      "Epoch 95/100\n",
      "375/375 [==============================] - 1s 2ms/step - loss: 0.5692 - accuracy: 0.8138 - val_loss: 6.7212 - val_accuracy: 0.1021\n",
      "Epoch 96/100\n",
      "375/375 [==============================] - 1s 2ms/step - loss: 0.5627 - accuracy: 0.8189 - val_loss: 6.7624 - val_accuracy: 0.1018\n",
      "Epoch 97/100\n",
      "375/375 [==============================] - 1s 2ms/step - loss: 0.5537 - accuracy: 0.8202 - val_loss: 6.8273 - val_accuracy: 0.1032\n",
      "Epoch 98/100\n",
      "375/375 [==============================] - 1s 2ms/step - loss: 0.5429 - accuracy: 0.8257 - val_loss: 6.9147 - val_accuracy: 0.1026\n",
      "Epoch 99/100\n",
      "375/375 [==============================] - 1s 2ms/step - loss: 0.5387 - accuracy: 0.8264 - val_loss: 6.9476 - val_accuracy: 0.0997\n",
      "Epoch 100/100\n",
      "375/375 [==============================] - 1s 2ms/step - loss: 0.5304 - accuracy: 0.8291 - val_loss: 7.0597 - val_accuracy: 0.1008\n"
     ]
    },
    {
     "data": {
      "text/plain": [
       "<keras.callbacks.History at 0x2adcb5547f0>"
      ]
     },
     "execution_count": 9,
     "metadata": {},
     "output_type": "execute_result"
    }
   ],
   "source": [
    "(train_images, train_labels), _ = mnist.load_data()\n",
    "train_images = train_images.reshape((60000, 28 * 28))\n",
    "train_images = train_images.astype(\"float32\") / 255\n",
    "\n",
    "random_train_labels = train_labels[:]\n",
    "np.random.shuffle(random_train_labels)\n",
    "\n",
    "model = keras.Sequential([\n",
    "    layers.Dense(512, activation=\"relu\"),\n",
    "    layers.Dense(256, activation=\"softmax\")\n",
    "])\n",
    "model.compile(optimizer=\"rmsprop\",\n",
    "              loss=\"sparse_categorical_crossentropy\",\n",
    "              metrics=[\"accuracy\"])\n",
    "model.fit(train_images, random_train_labels,\n",
    "          epochs=100,\n",
    "          batch_size=128,\n",
    "          validation_split=0.2)"
   ]
  },
  {
   "cell_type": "markdown",
   "id": "c12b7764",
   "metadata": {},
   "source": [
    "#  Improving model fit"
   ]
  },
  {
   "cell_type": "code",
   "execution_count": 10,
   "id": "c1cc9529",
   "metadata": {},
   "outputs": [
    {
     "name": "stdout",
     "output_type": "stream",
     "text": [
      "Epoch 1/30\n",
      "375/375 [==============================] - 1s 3ms/step - loss: 344.4498 - accuracy: 0.3589 - val_loss: 2.0728 - val_accuracy: 0.2373\n",
      "Epoch 2/30\n",
      "375/375 [==============================] - 1s 2ms/step - loss: 3.6515 - accuracy: 0.2160 - val_loss: 2.2515 - val_accuracy: 0.2201\n",
      "Epoch 3/30\n",
      "375/375 [==============================] - 1s 2ms/step - loss: 2.8203 - accuracy: 0.2397 - val_loss: 2.2795 - val_accuracy: 0.2429\n",
      "Epoch 4/30\n",
      "375/375 [==============================] - 1s 2ms/step - loss: 2.6869 - accuracy: 0.2433 - val_loss: 2.1322 - val_accuracy: 0.2238\n",
      "Epoch 5/30\n",
      "375/375 [==============================] - 1s 2ms/step - loss: 2.7997 - accuracy: 0.2472 - val_loss: 2.5296 - val_accuracy: 0.2929\n",
      "Epoch 6/30\n",
      "375/375 [==============================] - 1s 2ms/step - loss: 2.3133 - accuracy: 0.2327 - val_loss: 2.1410 - val_accuracy: 0.2154\n",
      "Epoch 7/30\n",
      "375/375 [==============================] - 1s 2ms/step - loss: 2.4293 - accuracy: 0.2343 - val_loss: 2.3478 - val_accuracy: 0.2188\n",
      "Epoch 8/30\n",
      "375/375 [==============================] - 1s 2ms/step - loss: 2.3884 - accuracy: 0.2177 - val_loss: 2.2564 - val_accuracy: 0.1882\n",
      "Epoch 9/30\n",
      "375/375 [==============================] - 1s 2ms/step - loss: 2.2546 - accuracy: 0.2243 - val_loss: 1.9653 - val_accuracy: 0.2492\n",
      "Epoch 10/30\n",
      "375/375 [==============================] - 1s 2ms/step - loss: 2.3092 - accuracy: 0.2152 - val_loss: 2.2084 - val_accuracy: 0.1757\n",
      "Epoch 11/30\n",
      "375/375 [==============================] - 1s 2ms/step - loss: 2.3321 - accuracy: 0.2048 - val_loss: 2.2015 - val_accuracy: 0.1983\n",
      "Epoch 12/30\n",
      "375/375 [==============================] - 1s 2ms/step - loss: 2.3734 - accuracy: 0.2122 - val_loss: 2.1690 - val_accuracy: 0.2013\n",
      "Epoch 13/30\n",
      "375/375 [==============================] - 1s 2ms/step - loss: 2.3254 - accuracy: 0.1953 - val_loss: 2.5325 - val_accuracy: 0.1987\n",
      "Epoch 14/30\n",
      "375/375 [==============================] - 1s 2ms/step - loss: 2.2466 - accuracy: 0.1968 - val_loss: 2.5265 - val_accuracy: 0.2340\n",
      "Epoch 15/30\n",
      "375/375 [==============================] - 1s 2ms/step - loss: 2.4081 - accuracy: 0.2205 - val_loss: 2.2733 - val_accuracy: 0.1822\n",
      "Epoch 16/30\n",
      "375/375 [==============================] - 1s 2ms/step - loss: 2.3189 - accuracy: 0.1978 - val_loss: 2.2710 - val_accuracy: 0.1664\n",
      "Epoch 17/30\n",
      "375/375 [==============================] - 1s 3ms/step - loss: 2.1982 - accuracy: 0.2063 - val_loss: 2.1611 - val_accuracy: 0.1891\n",
      "Epoch 18/30\n",
      "375/375 [==============================] - 1s 2ms/step - loss: 2.1623 - accuracy: 0.2004 - val_loss: 2.2176 - val_accuracy: 0.2176\n",
      "Epoch 19/30\n",
      "375/375 [==============================] - 1s 2ms/step - loss: 2.1978 - accuracy: 0.2213 - val_loss: 2.1246 - val_accuracy: 0.2306\n",
      "Epoch 20/30\n",
      "375/375 [==============================] - 1s 2ms/step - loss: 2.1395 - accuracy: 0.2201 - val_loss: 2.5185 - val_accuracy: 0.2454\n",
      "Epoch 21/30\n",
      "375/375 [==============================] - 1s 2ms/step - loss: 2.2097 - accuracy: 0.2054 - val_loss: 2.1128 - val_accuracy: 0.1955\n",
      "Epoch 22/30\n",
      "375/375 [==============================] - 1s 2ms/step - loss: 2.1748 - accuracy: 0.2144 - val_loss: 2.6674 - val_accuracy: 0.2352\n",
      "Epoch 23/30\n",
      "375/375 [==============================] - 1s 2ms/step - loss: 2.1750 - accuracy: 0.2185 - val_loss: 2.0840 - val_accuracy: 0.1982\n",
      "Epoch 24/30\n",
      "375/375 [==============================] - 1s 2ms/step - loss: 2.1664 - accuracy: 0.1987 - val_loss: 2.1181 - val_accuracy: 0.1919\n",
      "Epoch 25/30\n",
      "375/375 [==============================] - 1s 2ms/step - loss: 2.1634 - accuracy: 0.1992 - val_loss: 2.0862 - val_accuracy: 0.2001\n",
      "Epoch 26/30\n",
      "375/375 [==============================] - 1s 2ms/step - loss: 2.1636 - accuracy: 0.2000 - val_loss: 2.1803 - val_accuracy: 0.2057\n",
      "Epoch 27/30\n",
      "375/375 [==============================] - 1s 3ms/step - loss: 2.1660 - accuracy: 0.1986 - val_loss: 2.1242 - val_accuracy: 0.2003\n",
      "Epoch 28/30\n",
      "375/375 [==============================] - 1s 2ms/step - loss: 2.1655 - accuracy: 0.1978 - val_loss: 2.1543 - val_accuracy: 0.2000\n",
      "Epoch 29/30\n",
      "375/375 [==============================] - 1s 3ms/step - loss: 2.1638 - accuracy: 0.1997 - val_loss: 2.1137 - val_accuracy: 0.1962\n",
      "Epoch 30/30\n",
      "375/375 [==============================] - 1s 2ms/step - loss: 2.1648 - accuracy: 0.1994 - val_loss: 2.1373 - val_accuracy: 0.2040\n"
     ]
    },
    {
     "data": {
      "text/plain": [
       "<keras.callbacks.History at 0x2acac3300a0>"
      ]
     },
     "execution_count": 10,
     "metadata": {},
     "output_type": "execute_result"
    }
   ],
   "source": [
    "(train_images, train_labels), _ = mnist.load_data()\n",
    "train_images = train_images.reshape((60000, 28 * 28))\n",
    "train_images = train_images.astype(\"float32\") / 255\n",
    "\n",
    "model = keras.Sequential([\n",
    "    layers.Dense(512, activation=\"relu\"),\n",
    "    layers.Dense(256, activation=\"softmax\")\n",
    "])\n",
    "model.compile(optimizer=keras.optimizers.RMSprop(1.),\n",
    "              loss=\"sparse_categorical_crossentropy\",\n",
    "              metrics=[\"accuracy\"])\n",
    "model.fit(train_images, train_labels,\n",
    "          epochs=30,\n",
    "          batch_size=128,\n",
    "          validation_split=0.2)"
   ]
  },
  {
   "cell_type": "code",
   "execution_count": 11,
   "id": "07baec26",
   "metadata": {},
   "outputs": [
    {
     "name": "stdout",
     "output_type": "stream",
     "text": [
      "Epoch 1/30\n",
      "375/375 [==============================] - 2s 3ms/step - loss: 0.3744 - accuracy: 0.9122 - val_loss: 0.1881 - val_accuracy: 0.9468\n",
      "Epoch 2/30\n",
      "375/375 [==============================] - 1s 3ms/step - loss: 0.1419 - accuracy: 0.9623 - val_loss: 0.1779 - val_accuracy: 0.9600\n",
      "Epoch 3/30\n",
      "375/375 [==============================] - 1s 2ms/step - loss: 0.1118 - accuracy: 0.9722 - val_loss: 0.1779 - val_accuracy: 0.9691\n",
      "Epoch 4/30\n",
      "375/375 [==============================] - 1s 2ms/step - loss: 0.0976 - accuracy: 0.9782 - val_loss: 0.1814 - val_accuracy: 0.9675\n",
      "Epoch 5/30\n",
      "375/375 [==============================] - 1s 2ms/step - loss: 0.0861 - accuracy: 0.9811 - val_loss: 0.2087 - val_accuracy: 0.9652\n",
      "Epoch 6/30\n",
      "375/375 [==============================] - 1s 2ms/step - loss: 0.0774 - accuracy: 0.9844 - val_loss: 0.2885 - val_accuracy: 0.9630\n",
      "Epoch 7/30\n",
      "375/375 [==============================] - 1s 3ms/step - loss: 0.0735 - accuracy: 0.9858 - val_loss: 0.2325 - val_accuracy: 0.9730\n",
      "Epoch 8/30\n",
      "375/375 [==============================] - 1s 2ms/step - loss: 0.0642 - accuracy: 0.9883 - val_loss: 0.2666 - val_accuracy: 0.9737\n",
      "Epoch 9/30\n",
      "375/375 [==============================] - 1s 2ms/step - loss: 0.0625 - accuracy: 0.9894 - val_loss: 0.2820 - val_accuracy: 0.9718\n",
      "Epoch 10/30\n",
      "375/375 [==============================] - 1s 2ms/step - loss: 0.0508 - accuracy: 0.9904 - val_loss: 0.3671 - val_accuracy: 0.9701\n",
      "Epoch 11/30\n",
      "375/375 [==============================] - 1s 2ms/step - loss: 0.0542 - accuracy: 0.9907 - val_loss: 0.3215 - val_accuracy: 0.9728\n",
      "Epoch 12/30\n",
      "375/375 [==============================] - 1s 2ms/step - loss: 0.0548 - accuracy: 0.9914 - val_loss: 0.3402 - val_accuracy: 0.9732\n",
      "Epoch 13/30\n",
      "375/375 [==============================] - 1s 2ms/step - loss: 0.0428 - accuracy: 0.9928 - val_loss: 0.3435 - val_accuracy: 0.9728\n",
      "Epoch 14/30\n",
      "375/375 [==============================] - 1s 2ms/step - loss: 0.0433 - accuracy: 0.9935 - val_loss: 0.3450 - val_accuracy: 0.9769\n",
      "Epoch 15/30\n",
      "375/375 [==============================] - 1s 2ms/step - loss: 0.0434 - accuracy: 0.9932 - val_loss: 0.3417 - val_accuracy: 0.9766\n",
      "Epoch 16/30\n",
      "375/375 [==============================] - 1s 3ms/step - loss: 0.0382 - accuracy: 0.9940 - val_loss: 0.3991 - val_accuracy: 0.9773\n",
      "Epoch 17/30\n",
      "375/375 [==============================] - 1s 2ms/step - loss: 0.0332 - accuracy: 0.9948 - val_loss: 0.4196 - val_accuracy: 0.9739\n",
      "Epoch 18/30\n",
      "375/375 [==============================] - 1s 2ms/step - loss: 0.0359 - accuracy: 0.9944 - val_loss: 0.3989 - val_accuracy: 0.9754\n",
      "Epoch 19/30\n",
      "375/375 [==============================] - 1s 2ms/step - loss: 0.0326 - accuracy: 0.9953 - val_loss: 0.4953 - val_accuracy: 0.9734\n",
      "Epoch 20/30\n",
      "375/375 [==============================] - 1s 2ms/step - loss: 0.0355 - accuracy: 0.9951 - val_loss: 0.4760 - val_accuracy: 0.9763\n",
      "Epoch 21/30\n",
      "375/375 [==============================] - 1s 3ms/step - loss: 0.0336 - accuracy: 0.9954 - val_loss: 0.5124 - val_accuracy: 0.9737\n",
      "Epoch 22/30\n",
      "375/375 [==============================] - 1s 2ms/step - loss: 0.0339 - accuracy: 0.9951 - val_loss: 0.4503 - val_accuracy: 0.9784\n",
      "Epoch 23/30\n",
      "375/375 [==============================] - 1s 2ms/step - loss: 0.0287 - accuracy: 0.9964 - val_loss: 0.4947 - val_accuracy: 0.9762\n",
      "Epoch 24/30\n",
      "375/375 [==============================] - 1s 2ms/step - loss: 0.0349 - accuracy: 0.9961 - val_loss: 0.5696 - val_accuracy: 0.9747\n",
      "Epoch 25/30\n",
      "375/375 [==============================] - 1s 2ms/step - loss: 0.0275 - accuracy: 0.9964 - val_loss: 0.4807 - val_accuracy: 0.9778\n",
      "Epoch 26/30\n",
      "375/375 [==============================] - 1s 2ms/step - loss: 0.0236 - accuracy: 0.9969 - val_loss: 0.5042 - val_accuracy: 0.9776\n",
      "Epoch 27/30\n",
      "375/375 [==============================] - 1s 3ms/step - loss: 0.0221 - accuracy: 0.9971 - val_loss: 0.5278 - val_accuracy: 0.9763\n",
      "Epoch 28/30\n",
      "375/375 [==============================] - 1s 2ms/step - loss: 0.0241 - accuracy: 0.9969 - val_loss: 0.5276 - val_accuracy: 0.9760\n",
      "Epoch 29/30\n",
      "375/375 [==============================] - 1s 2ms/step - loss: 0.0224 - accuracy: 0.9967 - val_loss: 0.5745 - val_accuracy: 0.9768\n",
      "Epoch 30/30\n",
      "375/375 [==============================] - 1s 2ms/step - loss: 0.0247 - accuracy: 0.9971 - val_loss: 0.5955 - val_accuracy: 0.9756\n"
     ]
    },
    {
     "data": {
      "text/plain": [
       "<keras.callbacks.History at 0x2acc2b86d90>"
      ]
     },
     "execution_count": 11,
     "metadata": {},
     "output_type": "execute_result"
    }
   ],
   "source": [
    "model = keras.Sequential([\n",
    "    layers.Dense(512, activation=\"relu\"),\n",
    "    layers.Dense(256, activation=\"softmax\")\n",
    "])\n",
    "model.compile(optimizer=keras.optimizers.RMSprop(1e-2),\n",
    "              loss=\"sparse_categorical_crossentropy\",\n",
    "              metrics=[\"accuracy\"])\n",
    "model.fit(train_images, train_labels,\n",
    "          epochs=30,\n",
    "          batch_size=128,\n",
    "          validation_split=0.2)"
   ]
  },
  {
   "cell_type": "markdown",
   "id": "b693fd49",
   "metadata": {},
   "source": [
    "# A simple logistic regression on MNIST"
   ]
  },
  {
   "cell_type": "code",
   "execution_count": 12,
   "id": "59b02dde",
   "metadata": {},
   "outputs": [
    {
     "name": "stdout",
     "output_type": "stream",
     "text": [
      "Epoch 1/30\n",
      "375/375 [==============================] - 1s 3ms/step - loss: 0.6658 - accuracy: 0.8337 - val_loss: 0.3590 - val_accuracy: 0.9024\n",
      "Epoch 2/30\n",
      "375/375 [==============================] - 1s 2ms/step - loss: 0.3516 - accuracy: 0.9033 - val_loss: 0.3083 - val_accuracy: 0.9121\n",
      "Epoch 3/30\n",
      "375/375 [==============================] - 1s 2ms/step - loss: 0.3159 - accuracy: 0.9122 - val_loss: 0.2898 - val_accuracy: 0.9191\n",
      "Epoch 4/30\n",
      "375/375 [==============================] - 1s 2ms/step - loss: 0.2997 - accuracy: 0.9162 - val_loss: 0.2800 - val_accuracy: 0.9233\n",
      "Epoch 5/30\n",
      "375/375 [==============================] - 1s 2ms/step - loss: 0.2898 - accuracy: 0.9193 - val_loss: 0.2745 - val_accuracy: 0.9236\n",
      "Epoch 6/30\n",
      "375/375 [==============================] - 1s 2ms/step - loss: 0.2830 - accuracy: 0.9207 - val_loss: 0.2712 - val_accuracy: 0.9275\n",
      "Epoch 7/30\n",
      "375/375 [==============================] - 1s 2ms/step - loss: 0.2783 - accuracy: 0.9225 - val_loss: 0.2678 - val_accuracy: 0.9269\n",
      "Epoch 8/30\n",
      "375/375 [==============================] - 1s 2ms/step - loss: 0.2737 - accuracy: 0.9235 - val_loss: 0.2674 - val_accuracy: 0.9270\n",
      "Epoch 9/30\n",
      "375/375 [==============================] - 1s 2ms/step - loss: 0.2714 - accuracy: 0.9246 - val_loss: 0.2671 - val_accuracy: 0.9265\n",
      "Epoch 10/30\n",
      "375/375 [==============================] - 1s 2ms/step - loss: 0.2686 - accuracy: 0.9254 - val_loss: 0.2642 - val_accuracy: 0.9288\n",
      "Epoch 11/30\n",
      "375/375 [==============================] - 1s 2ms/step - loss: 0.2666 - accuracy: 0.9264 - val_loss: 0.2631 - val_accuracy: 0.9298\n",
      "Epoch 12/30\n",
      "375/375 [==============================] - 1s 2ms/step - loss: 0.2647 - accuracy: 0.9269 - val_loss: 0.2660 - val_accuracy: 0.9275\n",
      "Epoch 13/30\n",
      "375/375 [==============================] - 1s 2ms/step - loss: 0.2634 - accuracy: 0.9277 - val_loss: 0.2625 - val_accuracy: 0.9302\n",
      "Epoch 14/30\n",
      "375/375 [==============================] - 1s 2ms/step - loss: 0.2617 - accuracy: 0.9278 - val_loss: 0.2612 - val_accuracy: 0.9298\n",
      "Epoch 15/30\n",
      "375/375 [==============================] - 1s 2ms/step - loss: 0.2605 - accuracy: 0.9285 - val_loss: 0.2615 - val_accuracy: 0.9297\n",
      "Epoch 16/30\n",
      "375/375 [==============================] - 1s 2ms/step - loss: 0.2591 - accuracy: 0.9282 - val_loss: 0.2608 - val_accuracy: 0.9302\n",
      "Epoch 17/30\n",
      "375/375 [==============================] - 1s 2ms/step - loss: 0.2581 - accuracy: 0.9293 - val_loss: 0.2631 - val_accuracy: 0.9290\n",
      "Epoch 18/30\n",
      "375/375 [==============================] - 1s 2ms/step - loss: 0.2571 - accuracy: 0.9296 - val_loss: 0.2620 - val_accuracy: 0.9308\n",
      "Epoch 19/30\n",
      "375/375 [==============================] - 1s 2ms/step - loss: 0.2561 - accuracy: 0.9299 - val_loss: 0.2599 - val_accuracy: 0.9309\n",
      "Epoch 20/30\n",
      "375/375 [==============================] - 1s 2ms/step - loss: 0.2553 - accuracy: 0.9302 - val_loss: 0.2613 - val_accuracy: 0.9311\n",
      "Epoch 21/30\n",
      "375/375 [==============================] - 1s 2ms/step - loss: 0.2548 - accuracy: 0.9308 - val_loss: 0.2631 - val_accuracy: 0.9297\n",
      "Epoch 22/30\n",
      "375/375 [==============================] - 1s 2ms/step - loss: 0.2541 - accuracy: 0.9309 - val_loss: 0.2609 - val_accuracy: 0.9312\n",
      "Epoch 23/30\n",
      "375/375 [==============================] - 1s 2ms/step - loss: 0.2535 - accuracy: 0.9306 - val_loss: 0.2635 - val_accuracy: 0.9310\n",
      "Epoch 24/30\n",
      "375/375 [==============================] - 1s 2ms/step - loss: 0.2529 - accuracy: 0.9312 - val_loss: 0.2607 - val_accuracy: 0.9318\n",
      "Epoch 25/30\n",
      "375/375 [==============================] - 1s 2ms/step - loss: 0.2521 - accuracy: 0.9316 - val_loss: 0.2628 - val_accuracy: 0.9315\n",
      "Epoch 26/30\n",
      "375/375 [==============================] - 1s 2ms/step - loss: 0.2518 - accuracy: 0.9319 - val_loss: 0.2633 - val_accuracy: 0.9310\n",
      "Epoch 27/30\n",
      "375/375 [==============================] - 1s 2ms/step - loss: 0.2512 - accuracy: 0.9325 - val_loss: 0.2623 - val_accuracy: 0.9314\n",
      "Epoch 28/30\n",
      "375/375 [==============================] - 1s 2ms/step - loss: 0.2510 - accuracy: 0.9320 - val_loss: 0.2623 - val_accuracy: 0.9312\n",
      "Epoch 29/30\n",
      "375/375 [==============================] - 1s 2ms/step - loss: 0.2503 - accuracy: 0.9324 - val_loss: 0.2619 - val_accuracy: 0.9317\n",
      "Epoch 30/30\n",
      "375/375 [==============================] - 1s 2ms/step - loss: 0.2499 - accuracy: 0.9323 - val_loss: 0.2623 - val_accuracy: 0.9315\n"
     ]
    }
   ],
   "source": [
    "model = keras.Sequential([layers.Dense(10, activation=\"softmax\")])\n",
    "model.compile(optimizer=\"rmsprop\",\n",
    "              loss=\"sparse_categorical_crossentropy\",\n",
    "              metrics=[\"accuracy\"])\n",
    "history_small_model = model.fit(\n",
    "    train_images, train_labels,\n",
    "    epochs=30,\n",
    "    batch_size=128,\n",
    "    validation_split=0.2)"
   ]
  },
  {
   "cell_type": "code",
   "execution_count": 13,
   "id": "c93dfc3f",
   "metadata": {},
   "outputs": [
    {
     "data": {
      "text/plain": [
       "<matplotlib.legend.Legend at 0x2acbd6ad400>"
      ]
     },
     "execution_count": 13,
     "metadata": {},
     "output_type": "execute_result"
    },
    {
     "data": {
      "image/png": "[encoded data removed]",
      "text/plain": [
       "<Figure size 432x288 with 1 Axes>"
      ]
     },
     "metadata": {
      "needs_background": "light"
     },
     "output_type": "display_data"
    }
   ],
   "source": [
    "import matplotlib.pyplot as plt\n",
    "val_loss = history_small_model.history[\"val_loss\"]\n",
    "epochs = range(1, 31)\n",
    "plt.plot(epochs, val_loss, \"b--\",\n",
    "         label=\"Validation loss\")\n",
    "plt.title(\"Effect of insufficient model capacity on validation loss\")\n",
    "plt.xlabel(\"Epochs\")\n",
    "plt.ylabel(\"Loss\")\n",
    "plt.legend()"
   ]
  },
  {
   "cell_type": "code",
   "execution_count": 14,
   "id": "bd8d0ee0",
   "metadata": {},
   "outputs": [
    {
     "name": "stdout",
     "output_type": "stream",
     "text": [
      "Epoch 1/30\n",
      "375/375 [==============================] - 2s 3ms/step - loss: 0.3677 - accuracy: 0.8949 - val_loss: 0.1939 - val_accuracy: 0.9449\n",
      "Epoch 2/30\n",
      "375/375 [==============================] - 1s 3ms/step - loss: 0.1672 - accuracy: 0.9498 - val_loss: 0.1512 - val_accuracy: 0.9551\n",
      "Epoch 3/30\n",
      "375/375 [==============================] - 1s 2ms/step - loss: 0.1185 - accuracy: 0.9653 - val_loss: 0.1140 - val_accuracy: 0.9653\n",
      "Epoch 4/30\n",
      "375/375 [==============================] - 1s 2ms/step - loss: 0.0893 - accuracy: 0.9730 - val_loss: 0.1077 - val_accuracy: 0.9676\n",
      "Epoch 5/30\n",
      "375/375 [==============================] - 1s 2ms/step - loss: 0.0712 - accuracy: 0.9784 - val_loss: 0.1025 - val_accuracy: 0.9700\n",
      "Epoch 6/30\n",
      "375/375 [==============================] - 1s 2ms/step - loss: 0.0593 - accuracy: 0.9814 - val_loss: 0.0973 - val_accuracy: 0.9710\n",
      "Epoch 7/30\n",
      "375/375 [==============================] - 1s 2ms/step - loss: 0.0505 - accuracy: 0.9843 - val_loss: 0.0879 - val_accuracy: 0.9752\n",
      "Epoch 8/30\n",
      "375/375 [==============================] - 1s 2ms/step - loss: 0.0415 - accuracy: 0.9874 - val_loss: 0.0915 - val_accuracy: 0.9743\n",
      "Epoch 9/30\n",
      "375/375 [==============================] - 1s 2ms/step - loss: 0.0340 - accuracy: 0.9898 - val_loss: 0.1059 - val_accuracy: 0.9701\n",
      "Epoch 10/30\n",
      "375/375 [==============================] - 1s 3ms/step - loss: 0.0292 - accuracy: 0.9910 - val_loss: 0.1149 - val_accuracy: 0.9728\n",
      "Epoch 11/30\n",
      "375/375 [==============================] - 1s 3ms/step - loss: 0.0240 - accuracy: 0.9924 - val_loss: 0.0982 - val_accuracy: 0.9761\n",
      "Epoch 12/30\n",
      "375/375 [==============================] - 1s 3ms/step - loss: 0.0206 - accuracy: 0.9932 - val_loss: 0.1043 - val_accuracy: 0.9761\n",
      "Epoch 13/30\n",
      "375/375 [==============================] - 1s 3ms/step - loss: 0.0177 - accuracy: 0.9945 - val_loss: 0.1022 - val_accuracy: 0.9764\n",
      "Epoch 14/30\n",
      "375/375 [==============================] - 1s 3ms/step - loss: 0.0154 - accuracy: 0.9954 - val_loss: 0.1070 - val_accuracy: 0.9769\n",
      "Epoch 15/30\n",
      "375/375 [==============================] - 1s 2ms/step - loss: 0.0129 - accuracy: 0.9958 - val_loss: 0.1297 - val_accuracy: 0.9720\n",
      "Epoch 16/30\n",
      "375/375 [==============================] - 1s 2ms/step - loss: 0.0106 - accuracy: 0.9968 - val_loss: 0.1232 - val_accuracy: 0.9750\n",
      "Epoch 17/30\n",
      "375/375 [==============================] - 1s 3ms/step - loss: 0.0093 - accuracy: 0.9974 - val_loss: 0.1367 - val_accuracy: 0.9727\n",
      "Epoch 18/30\n",
      "375/375 [==============================] - 1s 2ms/step - loss: 0.0081 - accuracy: 0.9971 - val_loss: 0.1353 - val_accuracy: 0.9738\n",
      "Epoch 19/30\n",
      "375/375 [==============================] - 1s 3ms/step - loss: 0.0074 - accuracy: 0.9975 - val_loss: 0.1559 - val_accuracy: 0.9709\n",
      "Epoch 20/30\n",
      "375/375 [==============================] - 1s 2ms/step - loss: 0.0055 - accuracy: 0.9983 - val_loss: 0.1550 - val_accuracy: 0.9738\n",
      "Epoch 21/30\n",
      "375/375 [==============================] - 1s 2ms/step - loss: 0.0056 - accuracy: 0.9982 - val_loss: 0.1416 - val_accuracy: 0.9758\n",
      "Epoch 22/30\n",
      "375/375 [==============================] - 1s 2ms/step - loss: 0.0048 - accuracy: 0.9985 - val_loss: 0.1554 - val_accuracy: 0.9744\n",
      "Epoch 23/30\n",
      "375/375 [==============================] - 1s 3ms/step - loss: 0.0042 - accuracy: 0.9988 - val_loss: 0.1620 - val_accuracy: 0.9747\n",
      "Epoch 24/30\n",
      "375/375 [==============================] - 1s 3ms/step - loss: 0.0036 - accuracy: 0.9990 - val_loss: 0.1632 - val_accuracy: 0.9760\n",
      "Epoch 25/30\n",
      "375/375 [==============================] - 1s 2ms/step - loss: 0.0032 - accuracy: 0.9989 - val_loss: 0.1630 - val_accuracy: 0.9762\n",
      "Epoch 26/30\n",
      "375/375 [==============================] - 1s 2ms/step - loss: 0.0031 - accuracy: 0.9991 - val_loss: 0.1722 - val_accuracy: 0.9741\n",
      "Epoch 27/30\n",
      "375/375 [==============================] - 1s 3ms/step - loss: 0.0024 - accuracy: 0.9992 - val_loss: 0.1833 - val_accuracy: 0.9742\n",
      "Epoch 28/30\n",
      "375/375 [==============================] - 1s 3ms/step - loss: 0.0030 - accuracy: 0.9991 - val_loss: 0.2062 - val_accuracy: 0.9723\n",
      "Epoch 29/30\n",
      "375/375 [==============================] - 1s 3ms/step - loss: 0.0024 - accuracy: 0.9993 - val_loss: 0.1785 - val_accuracy: 0.9769\n",
      "Epoch 30/30\n",
      "375/375 [==============================] - 1s 3ms/step - loss: 0.0021 - accuracy: 0.9993 - val_loss: 0.2124 - val_accuracy: 0.9722\n"
     ]
    }
   ],
   "source": [
    "model = keras.Sequential([\n",
    "    layers.Dense(96, activation=\"relu\"),\n",
    "    layers.Dense(96, activation=\"relu\"),\n",
    "    layers.Dense(10, activation=\"softmax\"),\n",
    "])\n",
    "model.compile(optimizer=\"rmsprop\",\n",
    "              loss=\"sparse_categorical_crossentropy\",\n",
    "              metrics=[\"accuracy\"])\n",
    "history_large_model = model.fit(\n",
    "    train_images, train_labels,\n",
    "    epochs=30,\n",
    "    batch_size=128,\n",
    "    validation_split=0.2)"
   ]
  },
  {
   "cell_type": "markdown",
   "id": "cbf7e89d",
   "metadata": {},
   "source": [
    "# Improving generalization"
   ]
  },
  {
   "cell_type": "markdown",
   "id": "2d84fb66",
   "metadata": {},
   "source": [
    "## Original model"
   ]
  },
  {
   "cell_type": "code",
   "execution_count": 15,
   "id": "5278aa1c",
   "metadata": {},
   "outputs": [
    {
     "name": "stdout",
     "output_type": "stream",
     "text": [
      "Epoch 1/40\n",
      "15/15 [==============================] - 4s 210ms/step - loss: 0.5693 - accuracy: 0.7207 - val_loss: 0.4492 - val_accuracy: 0.8594\n",
      "Epoch 2/40\n",
      "15/15 [==============================] - 1s 70ms/step - loss: 0.3860 - accuracy: 0.8775 - val_loss: 0.3705 - val_accuracy: 0.8652\n",
      "Epoch 3/40\n",
      "15/15 [==============================] - 1s 52ms/step - loss: 0.3029 - accuracy: 0.9079 - val_loss: 0.3179 - val_accuracy: 0.8898\n",
      "Epoch 4/40\n",
      "15/15 [==============================] - 1s 46ms/step - loss: 0.2455 - accuracy: 0.9273 - val_loss: 0.2962 - val_accuracy: 0.8906\n",
      "Epoch 5/40\n",
      "15/15 [==============================] - 1s 55ms/step - loss: 0.2079 - accuracy: 0.9382 - val_loss: 0.2813 - val_accuracy: 0.8915\n",
      "Epoch 6/40\n",
      "15/15 [==============================] - 1s 63ms/step - loss: 0.1758 - accuracy: 0.9481 - val_loss: 0.3090 - val_accuracy: 0.8756\n",
      "Epoch 7/40\n",
      "15/15 [==============================] - 1s 55ms/step - loss: 0.1573 - accuracy: 0.9528 - val_loss: 0.2749 - val_accuracy: 0.8924\n",
      "Epoch 8/40\n",
      "15/15 [==============================] - 1s 52ms/step - loss: 0.1371 - accuracy: 0.9589 - val_loss: 0.2811 - val_accuracy: 0.8886\n",
      "Epoch 9/40\n",
      "15/15 [==============================] - 1s 47ms/step - loss: 0.1192 - accuracy: 0.9676 - val_loss: 0.3169 - val_accuracy: 0.8759\n",
      "Epoch 10/40\n",
      "15/15 [==============================] - 1s 52ms/step - loss: 0.1026 - accuracy: 0.9735 - val_loss: 0.2941 - val_accuracy: 0.8868\n",
      "Epoch 11/40\n",
      "15/15 [==============================] - 1s 63ms/step - loss: 0.0961 - accuracy: 0.9733 - val_loss: 0.3084 - val_accuracy: 0.8833\n",
      "Epoch 12/40\n",
      "15/15 [==============================] - 1s 56ms/step - loss: 0.0819 - accuracy: 0.9803 - val_loss: 0.3353 - val_accuracy: 0.8763\n",
      "Epoch 13/40\n",
      "15/15 [==============================] - 1s 49ms/step - loss: 0.0685 - accuracy: 0.9854 - val_loss: 0.3316 - val_accuracy: 0.8803\n",
      "Epoch 14/40\n",
      "15/15 [==============================] - 1s 48ms/step - loss: 0.0666 - accuracy: 0.9845 - val_loss: 0.3410 - val_accuracy: 0.8812\n",
      "Epoch 15/40\n",
      "15/15 [==============================] - 1s 55ms/step - loss: 0.0605 - accuracy: 0.9855 - val_loss: 0.3542 - val_accuracy: 0.8803\n",
      "Epoch 16/40\n",
      "15/15 [==============================] - 1s 47ms/step - loss: 0.0445 - accuracy: 0.9926 - val_loss: 0.3675 - val_accuracy: 0.8787\n",
      "Epoch 17/40\n",
      "15/15 [==============================] - 1s 48ms/step - loss: 0.0462 - accuracy: 0.9907 - val_loss: 0.3848 - val_accuracy: 0.8755\n",
      "Epoch 18/40\n",
      "15/15 [==============================] - 1s 49ms/step - loss: 0.0374 - accuracy: 0.9930 - val_loss: 0.4897 - val_accuracy: 0.8586\n",
      "Epoch 19/40\n",
      "15/15 [==============================] - 1s 51ms/step - loss: 0.0322 - accuracy: 0.9952 - val_loss: 0.4159 - val_accuracy: 0.8735\n",
      "Epoch 20/40\n",
      "15/15 [==============================] - 1s 53ms/step - loss: 0.0301 - accuracy: 0.9956 - val_loss: 0.4652 - val_accuracy: 0.8662\n",
      "Epoch 21/40\n",
      "15/15 [==============================] - 1s 49ms/step - loss: 0.0237 - accuracy: 0.9974 - val_loss: 0.4482 - val_accuracy: 0.8725\n",
      "Epoch 22/40\n",
      "15/15 [==============================] - 1s 48ms/step - loss: 0.0272 - accuracy: 0.9954 - val_loss: 0.4663 - val_accuracy: 0.8720\n",
      "Epoch 23/40\n",
      "15/15 [==============================] - 1s 52ms/step - loss: 0.0165 - accuracy: 0.9987 - val_loss: 0.4851 - val_accuracy: 0.8708\n",
      "Epoch 24/40\n",
      "15/15 [==============================] - 1s 47ms/step - loss: 0.0211 - accuracy: 0.9965 - val_loss: 0.5014 - val_accuracy: 0.8709\n",
      "Epoch 25/40\n",
      "15/15 [==============================] - 1s 52ms/step - loss: 0.0122 - accuracy: 0.9992 - val_loss: 0.5166 - val_accuracy: 0.8694\n",
      "Epoch 26/40\n",
      "15/15 [==============================] - 1s 56ms/step - loss: 0.0119 - accuracy: 0.9989 - val_loss: 0.6549 - val_accuracy: 0.8554\n",
      "Epoch 27/40\n",
      "15/15 [==============================] - 1s 56ms/step - loss: 0.0130 - accuracy: 0.9986 - val_loss: 0.5546 - val_accuracy: 0.8665\n",
      "Epoch 28/40\n",
      "15/15 [==============================] - 1s 53ms/step - loss: 0.0080 - accuracy: 0.9995 - val_loss: 0.5775 - val_accuracy: 0.8672\n",
      "Epoch 29/40\n",
      "15/15 [==============================] - 1s 52ms/step - loss: 0.0130 - accuracy: 0.9980 - val_loss: 0.5928 - val_accuracy: 0.8670\n",
      "Epoch 30/40\n",
      "15/15 [==============================] - 1s 45ms/step - loss: 0.0059 - accuracy: 0.9995 - val_loss: 0.6071 - val_accuracy: 0.8656\n",
      "Epoch 31/40\n",
      "15/15 [==============================] - 1s 54ms/step - loss: 0.0052 - accuracy: 0.9995 - val_loss: 0.6363 - val_accuracy: 0.8655\n",
      "Epoch 32/40\n",
      "15/15 [==============================] - 1s 67ms/step - loss: 0.0115 - accuracy: 0.9973 - val_loss: 0.6495 - val_accuracy: 0.8658\n",
      "Epoch 33/40\n",
      "15/15 [==============================] - 1s 47ms/step - loss: 0.0037 - accuracy: 0.9997 - val_loss: 0.6612 - val_accuracy: 0.8651\n",
      "Epoch 34/40\n",
      "15/15 [==============================] - 1s 49ms/step - loss: 0.0033 - accuracy: 0.9997 - val_loss: 0.6783 - val_accuracy: 0.8643\n",
      "Epoch 35/40\n",
      "15/15 [==============================] - 1s 61ms/step - loss: 0.0031 - accuracy: 0.9997 - val_loss: 0.7114 - val_accuracy: 0.8611\n",
      "Epoch 36/40\n",
      "15/15 [==============================] - 1s 51ms/step - loss: 0.0025 - accuracy: 0.9999 - val_loss: 0.7913 - val_accuracy: 0.8577\n",
      "Epoch 37/40\n",
      "15/15 [==============================] - 1s 51ms/step - loss: 0.0064 - accuracy: 0.9987 - val_loss: 0.7476 - val_accuracy: 0.8627\n",
      "Epoch 38/40\n",
      "15/15 [==============================] - 1s 52ms/step - loss: 0.0019 - accuracy: 0.9999 - val_loss: 0.7634 - val_accuracy: 0.8614\n",
      "Epoch 39/40\n",
      "15/15 [==============================] - 1s 48ms/step - loss: 0.0017 - accuracy: 0.9999 - val_loss: 0.7847 - val_accuracy: 0.8612\n",
      "Epoch 40/40\n",
      "15/15 [==============================] - 1s 49ms/step - loss: 0.0015 - accuracy: 0.9999 - val_loss: 0.8252 - val_accuracy: 0.8605\n"
     ]
    }
   ],
   "source": [
    "from tensorflow.keras.datasets import imdb\n",
    "(train_data, train_labels), _ = imdb.load_data(num_words=10000)\n",
    "\n",
    "def vectorize_sequences(sequences, dimension=10000):\n",
    "    results = np.zeros((len(sequences), dimension))\n",
    "    for i, sequence in enumerate(sequences):\n",
    "        results[i, sequence] = 1.\n",
    "    return results\n",
    "train_data = vectorize_sequences(train_data)\n",
    "\n",
    "model = keras.Sequential([\n",
    "    layers.Dense(16, activation=\"relu\"),\n",
    "    layers.Dense(16, activation=\"relu\"),\n",
    "    layers.Dense(1, activation=\"sigmoid\")\n",
    "])\n",
    "model.compile(optimizer=\"rmsprop\",\n",
    "              loss=\"binary_crossentropy\",\n",
    "              metrics=[\"accuracy\"])\n",
    "history_original = model.fit(train_data, train_labels,\n",
    "                             epochs=40, batch_size=1024, validation_split=0.4)"
   ]
  },
  {
   "cell_type": "code",
   "execution_count": 18,
   "id": "31531848",
   "metadata": {},
   "outputs": [
    {
     "name": "stdout",
     "output_type": "stream",
     "text": [
      "Epoch 1/40\n",
      "15/15 [==============================] - 8s 494ms/step - loss: 0.6189 - accuracy: 0.7629 - val_loss: 0.5554 - val_accuracy: 0.8413\n",
      "Epoch 2/40\n",
      "15/15 [==============================] - 1s 61ms/step - loss: 0.5078 - accuracy: 0.8747 - val_loss: 0.4823 - val_accuracy: 0.8638\n",
      "Epoch 3/40\n",
      "15/15 [==============================] - 1s 60ms/step - loss: 0.4326 - accuracy: 0.8969 - val_loss: 0.4291 - val_accuracy: 0.8679\n",
      "Epoch 4/40\n",
      "15/15 [==============================] - 1s 55ms/step - loss: 0.3738 - accuracy: 0.9083 - val_loss: 0.3856 - val_accuracy: 0.8766\n",
      "Epoch 5/40\n",
      "15/15 [==============================] - 1s 58ms/step - loss: 0.3268 - accuracy: 0.9173 - val_loss: 0.3554 - val_accuracy: 0.8846\n",
      "Epoch 6/40\n",
      "15/15 [==============================] - 1s 94ms/step - loss: 0.2880 - accuracy: 0.9255 - val_loss: 0.3297 - val_accuracy: 0.8869\n",
      "Epoch 7/40\n",
      "15/15 [==============================] - 1s 47ms/step - loss: 0.2575 - accuracy: 0.9312 - val_loss: 0.3113 - val_accuracy: 0.8886\n",
      "Epoch 8/40\n",
      "15/15 [==============================] - 1s 55ms/step - loss: 0.2313 - accuracy: 0.9397 - val_loss: 0.2983 - val_accuracy: 0.8888\n",
      "Epoch 9/40\n",
      "15/15 [==============================] - 1s 53ms/step - loss: 0.2096 - accuracy: 0.9447 - val_loss: 0.2918 - val_accuracy: 0.8903\n",
      "Epoch 10/40\n",
      "15/15 [==============================] - 1s 47ms/step - loss: 0.1913 - accuracy: 0.9492 - val_loss: 0.2829 - val_accuracy: 0.8908\n",
      "Epoch 11/40\n",
      "15/15 [==============================] - 1s 50ms/step - loss: 0.1758 - accuracy: 0.9537 - val_loss: 0.2841 - val_accuracy: 0.8876\n",
      "Epoch 12/40\n",
      "15/15 [==============================] - 1s 47ms/step - loss: 0.1618 - accuracy: 0.9571 - val_loss: 0.2773 - val_accuracy: 0.8904\n",
      "Epoch 13/40\n",
      "15/15 [==============================] - 1s 48ms/step - loss: 0.1496 - accuracy: 0.9601 - val_loss: 0.2827 - val_accuracy: 0.8874\n",
      "Epoch 14/40\n",
      "15/15 [==============================] - 1s 47ms/step - loss: 0.1389 - accuracy: 0.9647 - val_loss: 0.2789 - val_accuracy: 0.8892\n",
      "Epoch 15/40\n",
      "15/15 [==============================] - 1s 53ms/step - loss: 0.1288 - accuracy: 0.9674 - val_loss: 0.2812 - val_accuracy: 0.8872\n",
      "Epoch 16/40\n",
      "15/15 [==============================] - 1s 50ms/step - loss: 0.1196 - accuracy: 0.9697 - val_loss: 0.2894 - val_accuracy: 0.8858\n",
      "Epoch 17/40\n",
      "15/15 [==============================] - 1s 51ms/step - loss: 0.1122 - accuracy: 0.9711 - val_loss: 0.2861 - val_accuracy: 0.8857\n",
      "Epoch 18/40\n",
      "15/15 [==============================] - 1s 51ms/step - loss: 0.1043 - accuracy: 0.9742 - val_loss: 0.2894 - val_accuracy: 0.8868\n",
      "Epoch 19/40\n",
      "15/15 [==============================] - 1s 47ms/step - loss: 0.0963 - accuracy: 0.9769 - val_loss: 0.3007 - val_accuracy: 0.8852\n",
      "Epoch 20/40\n",
      "15/15 [==============================] - 1s 50ms/step - loss: 0.0903 - accuracy: 0.9781 - val_loss: 0.3003 - val_accuracy: 0.8859\n",
      "Epoch 21/40\n",
      "15/15 [==============================] - 1s 63ms/step - loss: 0.0843 - accuracy: 0.9803 - val_loss: 0.3073 - val_accuracy: 0.8832\n",
      "Epoch 22/40\n",
      "15/15 [==============================] - 1s 47ms/step - loss: 0.0781 - accuracy: 0.9831 - val_loss: 0.3142 - val_accuracy: 0.8846\n",
      "Epoch 23/40\n",
      "15/15 [==============================] - 1s 50ms/step - loss: 0.0725 - accuracy: 0.9855 - val_loss: 0.3229 - val_accuracy: 0.8841\n",
      "Epoch 24/40\n",
      "15/15 [==============================] - 1s 61ms/step - loss: 0.0674 - accuracy: 0.9859 - val_loss: 0.3292 - val_accuracy: 0.8827\n",
      "Epoch 25/40\n",
      "15/15 [==============================] - 1s 53ms/step - loss: 0.0624 - accuracy: 0.9878 - val_loss: 0.3386 - val_accuracy: 0.8808\n",
      "Epoch 26/40\n",
      "15/15 [==============================] - 1s 54ms/step - loss: 0.0583 - accuracy: 0.9887 - val_loss: 0.3502 - val_accuracy: 0.8811\n",
      "Epoch 27/40\n",
      "15/15 [==============================] - 1s 49ms/step - loss: 0.0539 - accuracy: 0.9895 - val_loss: 0.3582 - val_accuracy: 0.8804\n",
      "Epoch 28/40\n",
      "15/15 [==============================] - 1s 47ms/step - loss: 0.0500 - accuracy: 0.9909 - val_loss: 0.3662 - val_accuracy: 0.8787\n",
      "Epoch 29/40\n",
      "15/15 [==============================] - 1s 45ms/step - loss: 0.0463 - accuracy: 0.9913 - val_loss: 0.3829 - val_accuracy: 0.8783\n",
      "Epoch 30/40\n",
      "15/15 [==============================] - 1s 51ms/step - loss: 0.0425 - accuracy: 0.9926 - val_loss: 0.3866 - val_accuracy: 0.8773\n",
      "Epoch 31/40\n",
      "15/15 [==============================] - 1s 56ms/step - loss: 0.0393 - accuracy: 0.9935 - val_loss: 0.4062 - val_accuracy: 0.8733\n",
      "Epoch 32/40\n",
      "15/15 [==============================] - 1s 55ms/step - loss: 0.0364 - accuracy: 0.9943 - val_loss: 0.4153 - val_accuracy: 0.8757\n",
      "Epoch 33/40\n",
      "15/15 [==============================] - 1s 49ms/step - loss: 0.0335 - accuracy: 0.9949 - val_loss: 0.4218 - val_accuracy: 0.8747\n",
      "Epoch 34/40\n",
      "15/15 [==============================] - 1s 47ms/step - loss: 0.0314 - accuracy: 0.9954 - val_loss: 0.4337 - val_accuracy: 0.8743\n",
      "Epoch 35/40\n",
      "15/15 [==============================] - 1s 49ms/step - loss: 0.0283 - accuracy: 0.9958 - val_loss: 0.4466 - val_accuracy: 0.8729\n",
      "Epoch 36/40\n",
      "15/15 [==============================] - 1s 59ms/step - loss: 0.0260 - accuracy: 0.9965 - val_loss: 0.4576 - val_accuracy: 0.8723\n",
      "Epoch 37/40\n",
      "15/15 [==============================] - 1s 50ms/step - loss: 0.0238 - accuracy: 0.9974 - val_loss: 0.4712 - val_accuracy: 0.8718\n",
      "Epoch 38/40\n",
      "15/15 [==============================] - 1s 46ms/step - loss: 0.0214 - accuracy: 0.9975 - val_loss: 0.4861 - val_accuracy: 0.8708\n",
      "Epoch 39/40\n",
      "15/15 [==============================] - 1s 46ms/step - loss: 0.0199 - accuracy: 0.9978 - val_loss: 0.5060 - val_accuracy: 0.8700\n",
      "Epoch 40/40\n",
      "15/15 [==============================] - 1s 42ms/step - loss: 0.0178 - accuracy: 0.9983 - val_loss: 0.5139 - val_accuracy: 0.8696\n"
     ]
    }
   ],
   "source": [
    "from tensorflow.keras.datasets import imdb\n",
    "(train_data, train_labels), _ = imdb.load_data(num_words=10000)\n",
    "\n",
    "def vectorize_sequences(sequences, dimension=10000):\n",
    "    results = np.zeros((len(sequences), dimension))\n",
    "    for i, sequence in enumerate(sequences):\n",
    "        results[i, sequence] = 1.\n",
    "    return results\n",
    "train_data = vectorize_sequences(train_data)\n",
    "model = keras.Sequential([\n",
    "    layers.Dense(4, activation=\"relu\"),\n",
    "    layers.Dense(4, activation=\"relu\"),\n",
    "    layers.Dense(1, activation=\"sigmoid\")\n",
    "])\n",
    "model.compile(optimizer=\"rmsprop\",\n",
    "              loss=\"binary_crossentropy\",\n",
    "              metrics=[\"accuracy\"])\n",
    "history_smaller_model = model.fit(\n",
    "    train_data, train_labels,\n",
    "    epochs=40, batch_size=1024, validation_split=0.4)"
   ]
  },
  {
   "cell_type": "code",
   "execution_count": 22,
   "id": "8eda0ea1",
   "metadata": {},
   "outputs": [
    {
     "name": "stdout",
     "output_type": "stream",
     "text": [
      "Epoch 1/40\n",
      "15/15 [==============================] - 2s 87ms/step - loss: 0.7664 - accuracy: 0.7324 - val_loss: 0.3827 - val_accuracy: 0.8485\n",
      "Epoch 2/40\n",
      "15/15 [==============================] - 1s 51ms/step - loss: 0.3085 - accuracy: 0.8819 - val_loss: 0.3197 - val_accuracy: 0.8710\n",
      "Epoch 3/40\n",
      "15/15 [==============================] - 1s 53ms/step - loss: 0.2563 - accuracy: 0.8961 - val_loss: 0.4919 - val_accuracy: 0.7767\n",
      "Epoch 4/40\n",
      "15/15 [==============================] - 1s 50ms/step - loss: 0.1841 - accuracy: 0.9308 - val_loss: 0.2668 - val_accuracy: 0.8902\n",
      "Epoch 5/40\n",
      "15/15 [==============================] - 1s 52ms/step - loss: 0.1422 - accuracy: 0.9469 - val_loss: 0.2727 - val_accuracy: 0.8920\n",
      "Epoch 6/40\n",
      "15/15 [==============================] - 1s 50ms/step - loss: 0.1333 - accuracy: 0.9528 - val_loss: 0.2677 - val_accuracy: 0.8878\n",
      "Epoch 7/40\n",
      "15/15 [==============================] - 1s 50ms/step - loss: 0.0242 - accuracy: 0.9977 - val_loss: 0.3779 - val_accuracy: 0.8886\n",
      "Epoch 8/40\n",
      "15/15 [==============================] - 1s 50ms/step - loss: 0.0067 - accuracy: 0.9990 - val_loss: 0.7115 - val_accuracy: 0.8301\n",
      "Epoch 9/40\n",
      "15/15 [==============================] - 1s 51ms/step - loss: 0.1856 - accuracy: 0.9566 - val_loss: 0.3567 - val_accuracy: 0.8867\n",
      "Epoch 10/40\n",
      "15/15 [==============================] - 1s 50ms/step - loss: 0.0032 - accuracy: 0.9999 - val_loss: 0.4350 - val_accuracy: 0.8878\n",
      "Epoch 11/40\n",
      "15/15 [==============================] - 1s 50ms/step - loss: 9.3104e-04 - accuracy: 1.0000 - val_loss: 0.4994 - val_accuracy: 0.8871\n",
      "Epoch 12/40\n",
      "15/15 [==============================] - 1s 51ms/step - loss: 3.4997e-04 - accuracy: 1.0000 - val_loss: 0.5513 - val_accuracy: 0.8874\n",
      "Epoch 13/40\n",
      "15/15 [==============================] - 1s 51ms/step - loss: 1.4741e-04 - accuracy: 1.0000 - val_loss: 0.6030 - val_accuracy: 0.8881\n",
      "Epoch 14/40\n",
      "15/15 [==============================] - 1s 50ms/step - loss: 6.2263e-05 - accuracy: 1.0000 - val_loss: 0.6555 - val_accuracy: 0.8857\n",
      "Epoch 15/40\n",
      "15/15 [==============================] - 1s 51ms/step - loss: 2.7611e-05 - accuracy: 1.0000 - val_loss: 0.7035 - val_accuracy: 0.8862\n",
      "Epoch 16/40\n",
      "15/15 [==============================] - 1s 50ms/step - loss: 1.2420e-05 - accuracy: 1.0000 - val_loss: 0.7527 - val_accuracy: 0.8861\n",
      "Epoch 17/40\n",
      "15/15 [==============================] - 1s 52ms/step - loss: 6.0077e-06 - accuracy: 1.0000 - val_loss: 0.7991 - val_accuracy: 0.8855\n",
      "Epoch 18/40\n",
      "15/15 [==============================] - 1s 50ms/step - loss: 3.0001e-06 - accuracy: 1.0000 - val_loss: 0.8405 - val_accuracy: 0.8864\n",
      "Epoch 19/40\n",
      "15/15 [==============================] - 1s 50ms/step - loss: 1.5804e-06 - accuracy: 1.0000 - val_loss: 0.8943 - val_accuracy: 0.8856\n",
      "Epoch 20/40\n",
      "15/15 [==============================] - 1s 51ms/step - loss: 8.6809e-07 - accuracy: 1.0000 - val_loss: 0.9293 - val_accuracy: 0.8856\n",
      "Epoch 21/40\n",
      "15/15 [==============================] - 1s 52ms/step - loss: 5.0207e-07 - accuracy: 1.0000 - val_loss: 0.9664 - val_accuracy: 0.8862\n",
      "Epoch 22/40\n",
      "15/15 [==============================] - 1s 51ms/step - loss: 2.8974e-07 - accuracy: 1.0000 - val_loss: 1.0045 - val_accuracy: 0.8863\n",
      "Epoch 23/40\n",
      "15/15 [==============================] - 1s 51ms/step - loss: 1.7068e-07 - accuracy: 1.0000 - val_loss: 1.0432 - val_accuracy: 0.8866\n",
      "Epoch 24/40\n",
      "15/15 [==============================] - 1s 52ms/step - loss: 1.0623e-07 - accuracy: 1.0000 - val_loss: 1.0711 - val_accuracy: 0.8863\n",
      "Epoch 25/40\n",
      "15/15 [==============================] - 1s 53ms/step - loss: 6.9370e-08 - accuracy: 1.0000 - val_loss: 1.0990 - val_accuracy: 0.8860\n",
      "Epoch 26/40\n",
      "15/15 [==============================] - 1s 50ms/step - loss: 4.7996e-08 - accuracy: 1.0000 - val_loss: 1.1218 - val_accuracy: 0.8856\n",
      "Epoch 27/40\n",
      "15/15 [==============================] - 1s 50ms/step - loss: 3.5327e-08 - accuracy: 1.0000 - val_loss: 1.1405 - val_accuracy: 0.8859\n",
      "Epoch 28/40\n",
      "15/15 [==============================] - 1s 50ms/step - loss: 2.7371e-08 - accuracy: 1.0000 - val_loss: 1.1549 - val_accuracy: 0.8857\n",
      "Epoch 29/40\n",
      "15/15 [==============================] - 1s 51ms/step - loss: 2.2156e-08 - accuracy: 1.0000 - val_loss: 1.1677 - val_accuracy: 0.8859\n",
      "Epoch 30/40\n",
      "15/15 [==============================] - 1s 50ms/step - loss: 1.8553e-08 - accuracy: 1.0000 - val_loss: 1.1791 - val_accuracy: 0.8858\n",
      "Epoch 31/40\n",
      "15/15 [==============================] - 1s 50ms/step - loss: 1.5953e-08 - accuracy: 1.0000 - val_loss: 1.1895 - val_accuracy: 0.8857\n",
      "Epoch 32/40\n",
      "15/15 [==============================] - 1s 53ms/step - loss: 1.3929e-08 - accuracy: 1.0000 - val_loss: 1.1977 - val_accuracy: 0.8854\n",
      "Epoch 33/40\n",
      "15/15 [==============================] - 1s 51ms/step - loss: 1.2400e-08 - accuracy: 1.0000 - val_loss: 1.2052 - val_accuracy: 0.8853\n",
      "Epoch 34/40\n",
      "15/15 [==============================] - 1s 50ms/step - loss: 1.1167e-08 - accuracy: 1.0000 - val_loss: 1.2105 - val_accuracy: 0.8857\n",
      "Epoch 35/40\n",
      "15/15 [==============================] - 1s 51ms/step - loss: 1.0132e-08 - accuracy: 1.0000 - val_loss: 1.2174 - val_accuracy: 0.8857\n",
      "Epoch 36/40\n",
      "15/15 [==============================] - 1s 51ms/step - loss: 9.2943e-09 - accuracy: 1.0000 - val_loss: 1.2226 - val_accuracy: 0.8858\n",
      "Epoch 37/40\n",
      "15/15 [==============================] - 1s 52ms/step - loss: 8.5983e-09 - accuracy: 1.0000 - val_loss: 1.2272 - val_accuracy: 0.8858\n",
      "Epoch 38/40\n",
      "15/15 [==============================] - 1s 50ms/step - loss: 7.9963e-09 - accuracy: 1.0000 - val_loss: 1.2319 - val_accuracy: 0.8857\n",
      "Epoch 39/40\n",
      "15/15 [==============================] - 1s 50ms/step - loss: 7.4735e-09 - accuracy: 1.0000 - val_loss: 1.2360 - val_accuracy: 0.8858\n",
      "Epoch 40/40\n",
      "15/15 [==============================] - 1s 43ms/step - loss: 7.0246e-09 - accuracy: 1.0000 - val_loss: 1.2405 - val_accuracy: 0.8861\n"
     ]
    }
   ],
   "source": [
    "from tensorflow.keras.datasets import imdb\n",
    "(train_data, train_labels), _ = imdb.load_data(num_words=10000)\n",
    "\n",
    "def vectorize_sequences(sequences, dimension=10000):\n",
    "    results = np.zeros((len(sequences), dimension))\n",
    "    for i, sequence in enumerate(sequences):\n",
    "        results[i, sequence] = 1.\n",
    "    return results\n",
    "train_data = vectorize_sequences(train_data)\n",
    "model = keras.Sequential([\n",
    "    layers.Dense(512, activation=\"relu\"),\n",
    "    layers.Dense(512, activation=\"relu\"),\n",
    "    layers.Dense(1, activation=\"sigmoid\")\n",
    "])\n",
    "model.compile(optimizer=\"rmsprop\",\n",
    "              loss=\"binary_crossentropy\",\n",
    "              metrics=[\"accuracy\"])\n",
    "history_larger_model = model.fit(\n",
    "    train_data, train_labels,\n",
    "    epochs=40, batch_size=1024, validation_split=0.4)"
   ]
  },
  {
   "cell_type": "code",
   "execution_count": 25,
   "id": "5d225ec7",
   "metadata": {},
   "outputs": [
    {
     "name": "stdout",
     "output_type": "stream",
     "text": [
      "Epoch 1/20\n",
      "30/30 [==============================] - 2s 40ms/step - loss: 0.6111 - accuracy: 0.7821 - val_loss: 0.4860 - val_accuracy: 0.8661\n",
      "Epoch 2/20\n",
      "30/30 [==============================] - 1s 25ms/step - loss: 0.4255 - accuracy: 0.8947 - val_loss: 0.4079 - val_accuracy: 0.8804\n",
      "Epoch 3/20\n",
      "30/30 [==============================] - 1s 24ms/step - loss: 0.3506 - accuracy: 0.9150 - val_loss: 0.3830 - val_accuracy: 0.8824\n",
      "Epoch 4/20\n",
      "30/30 [==============================] - 1s 24ms/step - loss: 0.3074 - accuracy: 0.9247 - val_loss: 0.3590 - val_accuracy: 0.8889\n",
      "Epoch 5/20\n",
      "30/30 [==============================] - 1s 24ms/step - loss: 0.2878 - accuracy: 0.9291 - val_loss: 0.3577 - val_accuracy: 0.8875\n",
      "Epoch 6/20\n",
      "30/30 [==============================] - 1s 25ms/step - loss: 0.2719 - accuracy: 0.9333 - val_loss: 0.3603 - val_accuracy: 0.8856\n",
      "Epoch 7/20\n",
      "30/30 [==============================] - 1s 24ms/step - loss: 0.2601 - accuracy: 0.9394 - val_loss: 0.3888 - val_accuracy: 0.8735\n",
      "Epoch 8/20\n",
      "30/30 [==============================] - 1s 24ms/step - loss: 0.2488 - accuracy: 0.9418 - val_loss: 0.3686 - val_accuracy: 0.8834\n",
      "Epoch 9/20\n",
      "30/30 [==============================] - 1s 25ms/step - loss: 0.2448 - accuracy: 0.9423 - val_loss: 0.3666 - val_accuracy: 0.8819\n",
      "Epoch 10/20\n",
      "30/30 [==============================] - 1s 26ms/step - loss: 0.2372 - accuracy: 0.9459 - val_loss: 0.3696 - val_accuracy: 0.8818\n",
      "Epoch 11/20\n",
      "30/30 [==============================] - 1s 23ms/step - loss: 0.2280 - accuracy: 0.9505 - val_loss: 0.4936 - val_accuracy: 0.8405\n",
      "Epoch 12/20\n",
      "30/30 [==============================] - 1s 24ms/step - loss: 0.2310 - accuracy: 0.9465 - val_loss: 0.3799 - val_accuracy: 0.8792\n",
      "Epoch 13/20\n",
      "30/30 [==============================] - 1s 24ms/step - loss: 0.2204 - accuracy: 0.9538 - val_loss: 0.3832 - val_accuracy: 0.8779\n",
      "Epoch 14/20\n",
      "30/30 [==============================] - 1s 25ms/step - loss: 0.2246 - accuracy: 0.9487 - val_loss: 0.3888 - val_accuracy: 0.8777\n",
      "Epoch 15/20\n",
      "30/30 [==============================] - 1s 26ms/step - loss: 0.2124 - accuracy: 0.9565 - val_loss: 0.4035 - val_accuracy: 0.8744\n",
      "Epoch 16/20\n",
      "30/30 [==============================] - 1s 26ms/step - loss: 0.2168 - accuracy: 0.9511 - val_loss: 0.4238 - val_accuracy: 0.8693\n",
      "Epoch 17/20\n",
      "30/30 [==============================] - 1s 26ms/step - loss: 0.2133 - accuracy: 0.9533 - val_loss: 0.4028 - val_accuracy: 0.8754\n",
      "Epoch 18/20\n",
      "30/30 [==============================] - 1s 27ms/step - loss: 0.2116 - accuracy: 0.9555 - val_loss: 0.4044 - val_accuracy: 0.8746\n",
      "Epoch 19/20\n",
      "30/30 [==============================] - 1s 24ms/step - loss: 0.2080 - accuracy: 0.9559 - val_loss: 0.4069 - val_accuracy: 0.8755\n",
      "Epoch 20/20\n",
      "30/30 [==============================] - 1s 23ms/step - loss: 0.1984 - accuracy: 0.9619 - val_loss: 0.4078 - val_accuracy: 0.8755\n"
     ]
    }
   ],
   "source": [
    "from tensorflow.keras.datasets import imdb\n",
    "(train_data, train_labels), _ = imdb.load_data(num_words=10000)\n",
    "\n",
    "def vectorize_sequences(sequences, dimension=10000):\n",
    "    results = np.zeros((len(sequences), dimension))\n",
    "    for i, sequence in enumerate(sequences):\n",
    "        results[i, sequence] = 1.\n",
    "    return results\n",
    "train_data = vectorize_sequences(train_data)\n",
    "from tensorflow.keras import regularizers\n",
    "model = keras.Sequential([\n",
    "    layers.Dense(16,\n",
    "                 kernel_regularizer=regularizers.l2(0.002),\n",
    "                 activation=\"relu\"),\n",
    "    layers.Dense(16,\n",
    "                 kernel_regularizer=regularizers.l2(0.002),\n",
    "                 activation=\"relu\"),\n",
    "    layers.Dense(1, activation=\"sigmoid\")\n",
    "])\n",
    "model.compile(optimizer=\"rmsprop\",\n",
    "              loss=\"binary_crossentropy\",\n",
    "              metrics=[\"accuracy\"])\n",
    "history_l2_reg = model.fit(\n",
    "    train_data, train_labels,\n",
    "    epochs=20, batch_size=512, validation_split=0.4)"
   ]
  },
  {
   "cell_type": "markdown",
   "id": "2617f0d2",
   "metadata": {},
   "source": [
    "### Different weight regularizers available in Keras"
   ]
  },
  {
   "cell_type": "code",
   "execution_count": 26,
   "id": "599284e9",
   "metadata": {},
   "outputs": [
    {
     "data": {
      "text/plain": [
       "<keras.regularizers.L1L2 at 0x2add04fa6a0>"
      ]
     },
     "execution_count": 26,
     "metadata": {},
     "output_type": "execute_result"
    }
   ],
   "source": [
    "from tensorflow.keras import regularizers\n",
    "regularizers.l1(0.001)\n",
    "regularizers.l1_l2(l1=0.001, l2=0.001)"
   ]
  },
  {
   "cell_type": "markdown",
   "id": "5a10712b",
   "metadata": {},
   "source": [
    "### Adding dropout to the IMDB model"
   ]
  },
  {
   "cell_type": "code",
   "execution_count": 28,
   "id": "6899753b",
   "metadata": {},
   "outputs": [
    {
     "name": "stdout",
     "output_type": "stream",
     "text": [
      "Epoch 1/20\n",
      "30/30 [==============================] - 2s 41ms/step - loss: 0.6425 - accuracy: 0.6205 - val_loss: 0.5541 - val_accuracy: 0.8322\n",
      "Epoch 2/20\n",
      "30/30 [==============================] - 1s 24ms/step - loss: 0.5192 - accuracy: 0.7667 - val_loss: 0.4177 - val_accuracy: 0.8734\n",
      "Epoch 3/20\n",
      "30/30 [==============================] - 1s 24ms/step - loss: 0.4315 - accuracy: 0.8235 - val_loss: 0.3466 - val_accuracy: 0.8783\n",
      "Epoch 4/20\n",
      "30/30 [==============================] - 1s 24ms/step - loss: 0.3599 - accuracy: 0.8611 - val_loss: 0.2988 - val_accuracy: 0.8862\n",
      "Epoch 5/20\n",
      "30/30 [==============================] - 1s 25ms/step - loss: 0.3058 - accuracy: 0.8909 - val_loss: 0.2792 - val_accuracy: 0.8940\n",
      "Epoch 6/20\n",
      "30/30 [==============================] - 1s 25ms/step - loss: 0.2695 - accuracy: 0.9091 - val_loss: 0.3121 - val_accuracy: 0.8812\n",
      "Epoch 7/20\n",
      "30/30 [==============================] - 1s 26ms/step - loss: 0.2349 - accuracy: 0.9215 - val_loss: 0.2747 - val_accuracy: 0.8883\n",
      "Epoch 8/20\n",
      "30/30 [==============================] - 1s 25ms/step - loss: 0.2102 - accuracy: 0.9334 - val_loss: 0.2835 - val_accuracy: 0.8909\n",
      "Epoch 9/20\n",
      "30/30 [==============================] - 1s 25ms/step - loss: 0.1810 - accuracy: 0.9437 - val_loss: 0.3150 - val_accuracy: 0.8902\n",
      "Epoch 10/20\n",
      "30/30 [==============================] - 1s 25ms/step - loss: 0.1678 - accuracy: 0.9484 - val_loss: 0.3177 - val_accuracy: 0.8900\n",
      "Epoch 11/20\n",
      "30/30 [==============================] - 1s 28ms/step - loss: 0.1466 - accuracy: 0.9565 - val_loss: 0.3278 - val_accuracy: 0.8873\n",
      "Epoch 12/20\n",
      "30/30 [==============================] - 1s 30ms/step - loss: 0.1367 - accuracy: 0.9585 - val_loss: 0.3700 - val_accuracy: 0.8878\n",
      "Epoch 13/20\n",
      "30/30 [==============================] - 1s 37ms/step - loss: 0.1231 - accuracy: 0.9629 - val_loss: 0.4146 - val_accuracy: 0.8841\n",
      "Epoch 14/20\n",
      "30/30 [==============================] - 1s 27ms/step - loss: 0.1143 - accuracy: 0.9665 - val_loss: 0.4055 - val_accuracy: 0.8855\n",
      "Epoch 15/20\n",
      "30/30 [==============================] - 1s 27ms/step - loss: 0.1055 - accuracy: 0.9695 - val_loss: 0.4207 - val_accuracy: 0.8842\n",
      "Epoch 16/20\n",
      "30/30 [==============================] - 1s 27ms/step - loss: 0.0959 - accuracy: 0.9706 - val_loss: 0.4709 - val_accuracy: 0.8822\n",
      "Epoch 17/20\n",
      "30/30 [==============================] - 1s 27ms/step - loss: 0.0932 - accuracy: 0.9713 - val_loss: 0.4864 - val_accuracy: 0.8840\n",
      "Epoch 18/20\n",
      "30/30 [==============================] - 1s 28ms/step - loss: 0.0842 - accuracy: 0.9759 - val_loss: 0.5259 - val_accuracy: 0.8839\n",
      "Epoch 19/20\n",
      "30/30 [==============================] - 1s 26ms/step - loss: 0.0805 - accuracy: 0.9760 - val_loss: 0.5061 - val_accuracy: 0.8784\n",
      "Epoch 20/20\n",
      "30/30 [==============================] - 1s 25ms/step - loss: 0.0759 - accuracy: 0.9770 - val_loss: 0.5479 - val_accuracy: 0.8831\n"
     ]
    }
   ],
   "source": [
    "from tensorflow.keras.datasets import imdb\n",
    "(train_data, train_labels), _ = imdb.load_data(num_words=10000)\n",
    "\n",
    "def vectorize_sequences(sequences, dimension=10000):\n",
    "    results = np.zeros((len(sequences), dimension))\n",
    "    for i, sequence in enumerate(sequences):\n",
    "        results[i, sequence] = 1.\n",
    "    return results\n",
    "train_data = vectorize_sequences(train_data)\n",
    "model = keras.Sequential([\n",
    "    layers.Dense(16, activation=\"relu\"),\n",
    "    layers.Dropout(0.5),\n",
    "    layers.Dense(16, activation=\"relu\"),\n",
    "    layers.Dropout(0.5),\n",
    "    layers.Dense(1, activation=\"sigmoid\")\n",
    "])\n",
    "model.compile(optimizer=\"rmsprop\",\n",
    "              loss=\"binary_crossentropy\",\n",
    "              metrics=[\"accuracy\"])\n",
    "history_dropout = model.fit(\n",
    "    train_data, train_labels,\n",
    "    epochs=20, batch_size=512, validation_split=0.4)"
   ]
  },
  {
   "cell_type": "code",
   "execution_count": null,
   "id": "867e952c",
   "metadata": {},
   "outputs": [],
   "source": []
  }
 ],
 "metadata": {
  "kernelspec": {
   "display_name": "Python 3 (ipykernel)",
   "language": "python",
   "name": "python3"
  },
  "language_info": {
   "codemirror_mode": {
    "name": "ipython",
    "version": 3
   },
   "file_extension": ".py",
   "mimetype": "text/x-python",
   "name": "python",
   "nbconvert_exporter": "python",
   "pygments_lexer": "ipython3",
   "version": "3.9.12"
  }
 },
 "nbformat": 4,
 "nbformat_minor": 5
}
